{
 "cells": [
  {
   "cell_type": "code",
   "execution_count": 1,
   "id": "29398c0b",
   "metadata": {},
   "outputs": [],
   "source": [
    "# Importamos las librerías que vamos a necesitar\n",
    "# Librerías generales\n",
    "import math\n",
    "import numpy as np\n",
    "import pandas as pd\n",
    "import matplotlib.pyplot as plt\n",
    "\n",
    "# Tensorflow y sklearn\n",
    "import tensorflow as tf\n",
    "\n",
    "from tensorflow.keras.models import Sequential\n",
    "from tensorflow.keras.layers import Dense\n",
    "from tensorflow.keras.layers import LSTM\n",
    "from sklearn.preprocessing import MinMaxScaler\n",
    "from sklearn.metrics import mean_squared_error"
   ]
  },
  {
   "cell_type": "code",
   "execution_count": 2,
   "id": "27467d56",
   "metadata": {},
   "outputs": [],
   "source": [
    "# Seleccionamos la ruta de la serie a predecir\n",
    "ruta_serie = \"./datasets/E162533-time-series-mantto.xlsx\""
   ]
  },
  {
   "cell_type": "code",
   "execution_count": 3,
   "id": "7f13eb9b",
   "metadata": {},
   "outputs": [
    {
     "data": {
      "text/html": [
       "<div>\n",
       "<style scoped>\n",
       "    .dataframe tbody tr th:only-of-type {\n",
       "        vertical-align: middle;\n",
       "    }\n",
       "\n",
       "    .dataframe tbody tr th {\n",
       "        vertical-align: top;\n",
       "    }\n",
       "\n",
       "    .dataframe thead th {\n",
       "        text-align: right;\n",
       "    }\n",
       "</style>\n",
       "<table border=\"1\" class=\"dataframe\">\n",
       "  <thead>\n",
       "    <tr style=\"text-align: right;\">\n",
       "      <th></th>\n",
       "      <th>dias_sig_mantto</th>\n",
       "    </tr>\n",
       "  </thead>\n",
       "  <tbody>\n",
       "    <tr>\n",
       "      <th>0</th>\n",
       "      <td>120</td>\n",
       "    </tr>\n",
       "    <tr>\n",
       "      <th>1</th>\n",
       "      <td>119</td>\n",
       "    </tr>\n",
       "    <tr>\n",
       "      <th>2</th>\n",
       "      <td>118</td>\n",
       "    </tr>\n",
       "    <tr>\n",
       "      <th>3</th>\n",
       "      <td>117</td>\n",
       "    </tr>\n",
       "    <tr>\n",
       "      <th>4</th>\n",
       "      <td>116</td>\n",
       "    </tr>\n",
       "    <tr>\n",
       "      <th>...</th>\n",
       "      <td>...</td>\n",
       "    </tr>\n",
       "    <tr>\n",
       "      <th>1605</th>\n",
       "      <td>104</td>\n",
       "    </tr>\n",
       "    <tr>\n",
       "      <th>1606</th>\n",
       "      <td>103</td>\n",
       "    </tr>\n",
       "    <tr>\n",
       "      <th>1607</th>\n",
       "      <td>102</td>\n",
       "    </tr>\n",
       "    <tr>\n",
       "      <th>1608</th>\n",
       "      <td>101</td>\n",
       "    </tr>\n",
       "    <tr>\n",
       "      <th>1609</th>\n",
       "      <td>100</td>\n",
       "    </tr>\n",
       "  </tbody>\n",
       "</table>\n",
       "<p>1610 rows × 1 columns</p>\n",
       "</div>"
      ],
      "text/plain": [
       "      dias_sig_mantto\n",
       "0                 120\n",
       "1                 119\n",
       "2                 118\n",
       "3                 117\n",
       "4                 116\n",
       "...               ...\n",
       "1605              104\n",
       "1606              103\n",
       "1607              102\n",
       "1608              101\n",
       "1609              100\n",
       "\n",
       "[1610 rows x 1 columns]"
      ]
     },
     "execution_count": 3,
     "metadata": {},
     "output_type": "execute_result"
    }
   ],
   "source": [
    "# Cargamos el dataset\n",
    "dataframe = pd.read_excel(ruta_serie, usecols=[1])\n",
    "dataframe"
   ]
  },
  {
   "cell_type": "markdown",
   "id": "db14a252",
   "metadata": {},
   "source": [
    "# PREPARACIÓN DE LOS DATOS"
   ]
  },
  {
   "cell_type": "code",
   "execution_count": 4,
   "id": "bf0350d7",
   "metadata": {},
   "outputs": [
    {
     "data": {
      "text/plain": [
       "array([[120],\n",
       "       [119],\n",
       "       [118],\n",
       "       ...,\n",
       "       [102],\n",
       "       [101],\n",
       "       [100]], dtype=int64)"
      ]
     },
     "execution_count": 4,
     "metadata": {},
     "output_type": "execute_result"
    }
   ],
   "source": [
    "dataframe.values\n",
    "y = dataframe.values.reshape(-1, 1)\n",
    "y"
   ]
  },
  {
   "cell_type": "code",
   "execution_count": 5,
   "id": "71c59678",
   "metadata": {},
   "outputs": [
    {
     "data": {
      "text/plain": [
       "array([[1.        ],\n",
       "       [0.99212598],\n",
       "       [0.98425197],\n",
       "       ...,\n",
       "       [0.85826772],\n",
       "       [0.8503937 ],\n",
       "       [0.84251969]])"
      ]
     },
     "execution_count": 5,
     "metadata": {},
     "output_type": "execute_result"
    }
   ],
   "source": [
    "# Escalamos los datos para una mejor predicción\n",
    "scaler = MinMaxScaler(feature_range=(0, 1))\n",
    "scaler = scaler.fit(y)\n",
    "y = scaler.transform(y)\n",
    "y"
   ]
  },
  {
   "cell_type": "code",
   "execution_count": 6,
   "id": "5b84df86",
   "metadata": {},
   "outputs": [],
   "source": [
    "# Generamos los datos para hacer la predicción\n",
    "n_lookback = 60\n",
    "n_forecast = 30"
   ]
  },
  {
   "cell_type": "code",
   "execution_count": 7,
   "id": "402b4b4c",
   "metadata": {},
   "outputs": [],
   "source": [
    "# Agregamos los valores a un nuevo arreglo para ingresarlo al modelo\n",
    "X = []\n",
    "Y = []\n",
    "\n",
    "for i in range(n_lookback, len(y) - n_forecast + 1):\n",
    "    X.append(y[i - n_lookback: i])\n",
    "    Y.append(y[i: i + n_forecast])"
   ]
  },
  {
   "cell_type": "code",
   "execution_count": 8,
   "id": "63187c8a",
   "metadata": {},
   "outputs": [],
   "source": [
    "# lo convertimos en un arreglo de numpy pues es lo que el modelo interpretará\n",
    "X = np.array(X)\n",
    "Y = np.array(Y)"
   ]
  },
  {
   "cell_type": "markdown",
   "id": "4b0e42e6",
   "metadata": {},
   "source": [
    "## Creación del modelo"
   ]
  },
  {
   "cell_type": "code",
   "execution_count": 9,
   "id": "a2303aa0",
   "metadata": {},
   "outputs": [],
   "source": [
    "# Creamos y compilamos el modelo, se seleccionaron estos tamaños pues fueron los que dieron mejores resultados\n",
    "model = Sequential()\n",
    "model.add(LSTM(units=5, return_sequences=True, input_shape=(n_lookback, 1)))\n",
    "model.add(LSTM(units=50))\n",
    "model.add(Dense(n_forecast))\n",
    "model.compile(loss='mean_squared_error', optimizer='adam')"
   ]
  },
  {
   "cell_type": "code",
   "execution_count": 10,
   "id": "13bd9d19",
   "metadata": {},
   "outputs": [
    {
     "name": "stdout",
     "output_type": "stream",
     "text": [
      "Epoch 1/100\n",
      "48/48 - 4s - loss: 0.2232 - 4s/epoch - 88ms/step\n",
      "Epoch 2/100\n",
      "48/48 - 1s - loss: 0.0687 - 1s/epoch - 22ms/step\n",
      "Epoch 3/100\n",
      "48/48 - 1s - loss: 0.0664 - 1s/epoch - 22ms/step\n",
      "Epoch 4/100\n",
      "48/48 - 1s - loss: 0.0646 - 1s/epoch - 22ms/step\n",
      "Epoch 5/100\n",
      "48/48 - 1s - loss: 0.0618 - 1s/epoch - 22ms/step\n",
      "Epoch 6/100\n",
      "48/48 - 1s - loss: 0.0561 - 1s/epoch - 23ms/step\n",
      "Epoch 7/100\n",
      "48/48 - 1s - loss: 0.0474 - 1s/epoch - 22ms/step\n",
      "Epoch 8/100\n",
      "48/48 - 1s - loss: 0.0439 - 1s/epoch - 22ms/step\n",
      "Epoch 9/100\n",
      "48/48 - 1s - loss: 0.0427 - 1s/epoch - 22ms/step\n",
      "Epoch 10/100\n",
      "48/48 - 1s - loss: 0.0422 - 1s/epoch - 22ms/step\n",
      "Epoch 11/100\n",
      "48/48 - 1s - loss: 0.0414 - 1s/epoch - 22ms/step\n",
      "Epoch 12/100\n",
      "48/48 - 1s - loss: 0.0411 - 1s/epoch - 22ms/step\n",
      "Epoch 13/100\n",
      "48/48 - 1s - loss: 0.0412 - 1s/epoch - 23ms/step\n",
      "Epoch 14/100\n",
      "48/48 - 1s - loss: 0.0402 - 1s/epoch - 22ms/step\n",
      "Epoch 15/100\n",
      "48/48 - 1s - loss: 0.0397 - 1s/epoch - 22ms/step\n",
      "Epoch 16/100\n",
      "48/48 - 1s - loss: 0.0392 - 1s/epoch - 22ms/step\n",
      "Epoch 17/100\n",
      "48/48 - 1s - loss: 0.0388 - 1s/epoch - 23ms/step\n",
      "Epoch 18/100\n",
      "48/48 - 1s - loss: 0.0384 - 1s/epoch - 23ms/step\n",
      "Epoch 19/100\n",
      "48/48 - 1s - loss: 0.0384 - 1s/epoch - 23ms/step\n",
      "Epoch 20/100\n",
      "48/48 - 1s - loss: 0.0389 - 1s/epoch - 22ms/step\n",
      "Epoch 21/100\n",
      "48/48 - 1s - loss: 0.0385 - 1s/epoch - 22ms/step\n",
      "Epoch 22/100\n",
      "48/48 - 1s - loss: 0.0377 - 1s/epoch - 23ms/step\n",
      "Epoch 23/100\n",
      "48/48 - 1s - loss: 0.0376 - 1s/epoch - 22ms/step\n",
      "Epoch 24/100\n",
      "48/48 - 1s - loss: 0.0379 - 1s/epoch - 23ms/step\n",
      "Epoch 25/100\n",
      "48/48 - 1s - loss: 0.0374 - 1s/epoch - 22ms/step\n",
      "Epoch 26/100\n",
      "48/48 - 1s - loss: 0.0375 - 1s/epoch - 23ms/step\n",
      "Epoch 27/100\n",
      "48/48 - 1s - loss: 0.0373 - 1s/epoch - 23ms/step\n",
      "Epoch 28/100\n",
      "48/48 - 1s - loss: 0.0368 - 1s/epoch - 22ms/step\n",
      "Epoch 29/100\n",
      "48/48 - 1s - loss: 0.0372 - 1s/epoch - 23ms/step\n",
      "Epoch 30/100\n",
      "48/48 - 1s - loss: 0.0366 - 1s/epoch - 22ms/step\n",
      "Epoch 31/100\n",
      "48/48 - 1s - loss: 0.0368 - 1s/epoch - 23ms/step\n",
      "Epoch 32/100\n",
      "48/48 - 1s - loss: 0.0367 - 1s/epoch - 23ms/step\n",
      "Epoch 33/100\n",
      "48/48 - 1s - loss: 0.0365 - 1s/epoch - 23ms/step\n",
      "Epoch 34/100\n",
      "48/48 - 1s - loss: 0.0363 - 1s/epoch - 22ms/step\n",
      "Epoch 35/100\n",
      "48/48 - 1s - loss: 0.0361 - 1s/epoch - 23ms/step\n",
      "Epoch 36/100\n",
      "48/48 - 1s - loss: 0.0360 - 1s/epoch - 22ms/step\n",
      "Epoch 37/100\n",
      "48/48 - 1s - loss: 0.0357 - 1s/epoch - 22ms/step\n",
      "Epoch 38/100\n",
      "48/48 - 1s - loss: 0.0363 - 1s/epoch - 23ms/step\n",
      "Epoch 39/100\n",
      "48/48 - 1s - loss: 0.0369 - 1s/epoch - 22ms/step\n",
      "Epoch 40/100\n",
      "48/48 - 1s - loss: 0.0362 - 1s/epoch - 23ms/step\n",
      "Epoch 41/100\n",
      "48/48 - 1s - loss: 0.0357 - 1s/epoch - 22ms/step\n",
      "Epoch 42/100\n",
      "48/48 - 1s - loss: 0.0357 - 1s/epoch - 23ms/step\n",
      "Epoch 43/100\n",
      "48/48 - 1s - loss: 0.0364 - 1s/epoch - 23ms/step\n",
      "Epoch 44/100\n",
      "48/48 - 1s - loss: 0.0359 - 1s/epoch - 23ms/step\n",
      "Epoch 45/100\n",
      "48/48 - 1s - loss: 0.0353 - 1s/epoch - 23ms/step\n",
      "Epoch 46/100\n",
      "48/48 - 1s - loss: 0.0353 - 1s/epoch - 23ms/step\n",
      "Epoch 47/100\n",
      "48/48 - 1s - loss: 0.0353 - 1s/epoch - 22ms/step\n",
      "Epoch 48/100\n",
      "48/48 - 1s - loss: 0.0355 - 1s/epoch - 23ms/step\n",
      "Epoch 49/100\n",
      "48/48 - 1s - loss: 0.0354 - 1s/epoch - 23ms/step\n",
      "Epoch 50/100\n",
      "48/48 - 1s - loss: 0.0355 - 1s/epoch - 23ms/step\n",
      "Epoch 51/100\n",
      "48/48 - 1s - loss: 0.0351 - 1s/epoch - 23ms/step\n",
      "Epoch 52/100\n",
      "48/48 - 1s - loss: 0.0349 - 1s/epoch - 23ms/step\n",
      "Epoch 53/100\n",
      "48/48 - 1s - loss: 0.0348 - 1s/epoch - 23ms/step\n",
      "Epoch 54/100\n",
      "48/48 - 1s - loss: 0.0352 - 1s/epoch - 23ms/step\n",
      "Epoch 55/100\n",
      "48/48 - 1s - loss: 0.0347 - 1s/epoch - 23ms/step\n",
      "Epoch 56/100\n",
      "48/48 - 1s - loss: 0.0349 - 1s/epoch - 23ms/step\n",
      "Epoch 57/100\n",
      "48/48 - 1s - loss: 0.0347 - 1s/epoch - 23ms/step\n",
      "Epoch 58/100\n",
      "48/48 - 1s - loss: 0.0348 - 1s/epoch - 23ms/step\n",
      "Epoch 59/100\n",
      "48/48 - 1s - loss: 0.0349 - 1s/epoch - 23ms/step\n",
      "Epoch 60/100\n",
      "48/48 - 1s - loss: 0.0345 - 1s/epoch - 23ms/step\n",
      "Epoch 61/100\n",
      "48/48 - 1s - loss: 0.0348 - 1s/epoch - 22ms/step\n",
      "Epoch 62/100\n",
      "48/48 - 1s - loss: 0.0345 - 1s/epoch - 23ms/step\n",
      "Epoch 63/100\n",
      "48/48 - 1s - loss: 0.0348 - 1s/epoch - 22ms/step\n",
      "Epoch 64/100\n",
      "48/48 - 1s - loss: 0.0345 - 1s/epoch - 23ms/step\n",
      "Epoch 65/100\n",
      "48/48 - 1s - loss: 0.0345 - 1s/epoch - 23ms/step\n",
      "Epoch 66/100\n",
      "48/48 - 1s - loss: 0.0349 - 1s/epoch - 23ms/step\n",
      "Epoch 67/100\n",
      "48/48 - 1s - loss: 0.0342 - 1s/epoch - 23ms/step\n",
      "Epoch 68/100\n",
      "48/48 - 1s - loss: 0.0344 - 1s/epoch - 23ms/step\n",
      "Epoch 69/100\n",
      "48/48 - 1s - loss: 0.0343 - 1s/epoch - 25ms/step\n",
      "Epoch 70/100\n",
      "48/48 - 1s - loss: 0.0344 - 1s/epoch - 24ms/step\n",
      "Epoch 71/100\n",
      "48/48 - 1s - loss: 0.0342 - 1s/epoch - 25ms/step\n",
      "Epoch 72/100\n",
      "48/48 - 1s - loss: 0.0342 - 1s/epoch - 24ms/step\n",
      "Epoch 73/100\n",
      "48/48 - 1s - loss: 0.0340 - 1s/epoch - 23ms/step\n",
      "Epoch 74/100\n",
      "48/48 - 1s - loss: 0.0342 - 1s/epoch - 23ms/step\n",
      "Epoch 75/100\n",
      "48/48 - 1s - loss: 0.0345 - 1s/epoch - 23ms/step\n",
      "Epoch 76/100\n",
      "48/48 - 1s - loss: 0.0341 - 1s/epoch - 23ms/step\n",
      "Epoch 77/100\n",
      "48/48 - 1s - loss: 0.0341 - 1s/epoch - 23ms/step\n",
      "Epoch 78/100\n",
      "48/48 - 1s - loss: 0.0356 - 1s/epoch - 23ms/step\n",
      "Epoch 79/100\n",
      "48/48 - 1s - loss: 0.0341 - 1s/epoch - 23ms/step\n",
      "Epoch 80/100\n",
      "48/48 - 1s - loss: 0.0343 - 1s/epoch - 23ms/step\n",
      "Epoch 81/100\n",
      "48/48 - 1s - loss: 0.0342 - 1s/epoch - 23ms/step\n",
      "Epoch 82/100\n",
      "48/48 - 1s - loss: 0.0337 - 1s/epoch - 23ms/step\n",
      "Epoch 83/100\n",
      "48/48 - 1s - loss: 0.0341 - 1s/epoch - 23ms/step\n",
      "Epoch 84/100\n",
      "48/48 - 1s - loss: 0.0339 - 1s/epoch - 23ms/step\n",
      "Epoch 85/100\n",
      "48/48 - 1s - loss: 0.0343 - 1s/epoch - 23ms/step\n",
      "Epoch 86/100\n",
      "48/48 - 1s - loss: 0.0342 - 1s/epoch - 23ms/step\n",
      "Epoch 87/100\n",
      "48/48 - 1s - loss: 0.0337 - 1s/epoch - 23ms/step\n",
      "Epoch 88/100\n",
      "48/48 - 1s - loss: 0.0339 - 1s/epoch - 23ms/step\n",
      "Epoch 89/100\n",
      "48/48 - 1s - loss: 0.0344 - 1s/epoch - 23ms/step\n",
      "Epoch 90/100\n",
      "48/48 - 1s - loss: 0.0337 - 1s/epoch - 23ms/step\n",
      "Epoch 91/100\n",
      "48/48 - 1s - loss: 0.0339 - 1s/epoch - 23ms/step\n",
      "Epoch 92/100\n",
      "48/48 - 1s - loss: 0.0336 - 1s/epoch - 22ms/step\n",
      "Epoch 93/100\n",
      "48/48 - 1s - loss: 0.0338 - 1s/epoch - 22ms/step\n",
      "Epoch 94/100\n",
      "48/48 - 1s - loss: 0.0338 - 1s/epoch - 23ms/step\n",
      "Epoch 95/100\n",
      "48/48 - 1s - loss: 0.0335 - 1s/epoch - 23ms/step\n",
      "Epoch 96/100\n",
      "48/48 - 1s - loss: 0.0337 - 1s/epoch - 23ms/step\n",
      "Epoch 97/100\n",
      "48/48 - 1s - loss: 0.0341 - 1s/epoch - 23ms/step\n",
      "Epoch 98/100\n",
      "48/48 - 1s - loss: 0.0341 - 1s/epoch - 23ms/step\n",
      "Epoch 99/100\n",
      "48/48 - 1s - loss: 0.0336 - 1s/epoch - 23ms/step\n",
      "Epoch 100/100\n",
      "48/48 - 1s - loss: 0.0332 - 1s/epoch - 23ms/step\n"
     ]
    }
   ],
   "source": [
    "# Lo ajustamos para predecir los valores\n",
    "history = model.fit(X, Y, epochs=100, batch_size=32, verbose=2)"
   ]
  },
  {
   "cell_type": "code",
   "execution_count": 11,
   "id": "9cdae879",
   "metadata": {},
   "outputs": [
    {
     "data": {
      "image/png": "[encoded data removed]",
      "text/plain": [
       "<Figure size 1500x1500 with 1 Axes>"
      ]
     },
     "metadata": {},
     "output_type": "display_data"
    }
   ],
   "source": [
    "# graficamos la perdida\n",
    "plt.figure(figsize=(15,15))\n",
    "plt.plot(history.history[\"loss\"], label=\"Loss\")\n",
    "plt.legend()\n",
    "plt.show()"
   ]
  },
  {
   "cell_type": "markdown",
   "id": "680bbd77",
   "metadata": {},
   "source": [
    "# Pruebas del modelo"
   ]
  },
  {
   "cell_type": "code",
   "execution_count": 12,
   "id": "59a9992d",
   "metadata": {},
   "outputs": [
    {
     "data": {
      "text/plain": [
       "(60, 1)"
      ]
     },
     "execution_count": 12,
     "metadata": {},
     "output_type": "execute_result"
    }
   ],
   "source": [
    "# Generamos el forecast, los últimos valores disponibles de la secuencia, los últimos 60 días en este caso\n",
    "X_ = y[- n_lookback:]\n",
    "X_.shape"
   ]
  },
  {
   "cell_type": "code",
   "execution_count": 13,
   "id": "3c5648d9",
   "metadata": {},
   "outputs": [
    {
     "name": "stdout",
     "output_type": "stream",
     "text": [
      "WARNING:tensorflow:Model was constructed with shape (None, 60, 1) for input KerasTensor(type_spec=TensorSpec(shape=(None, 60, 1), dtype=tf.float32, name='lstm_input'), name='lstm_input', description=\"created by layer 'lstm_input'\"), but it was called on an input with incompatible shape (None, 1, 1).\n",
      "2/2 [==============================] - 1s 0s/step\n"
     ]
    },
    {
     "data": {
      "text/plain": [
       "array([[0.11814525, 0.0809986 , 0.10070263, ..., 0.16577888, 0.15393999,\n",
       "        0.13755806],\n",
       "       [0.11522432, 0.07856796, 0.09808162, ..., 0.16473591, 0.15300608,\n",
       "        0.1366145 ],\n",
       "       [0.40321547, 0.32630393, 0.3609164 , ..., 0.27603716, 0.2511433 ,\n",
       "        0.23638842],\n",
       "       ...,\n",
       "       [0.3331263 , 0.26475832, 0.29623693, ..., 0.24751699, 0.22636133,\n",
       "        0.21098104],\n",
       "       [0.3292785 , 0.26139846, 0.29269782, ..., 0.24597576, 0.22501434,\n",
       "        0.20960549],\n",
       "       [0.32543764, 0.2580467 , 0.28916633, ..., 0.2444399 , 0.22367127,\n",
       "        0.20823443]], dtype=float32)"
      ]
     },
     "execution_count": 13,
     "metadata": {},
     "output_type": "execute_result"
    }
   ],
   "source": [
    "# Predecimos el modelo con los últimos días\n",
    "Y_ = model.predict(X_)\n",
    "Y_"
   ]
  },
  {
   "cell_type": "code",
   "execution_count": 14,
   "id": "b4298432",
   "metadata": {},
   "outputs": [],
   "source": [
    "# Regresamos los valores a sus valores de origen\n",
    "Y_ = scaler.inverse_transform(Y_)"
   ]
  },
  {
   "cell_type": "code",
   "execution_count": 15,
   "id": "3b78707e",
   "metadata": {},
   "outputs": [
    {
     "data": {
      "text/plain": [
       "array([[ 8.004446 ,  3.286822 ,  5.7892337, ..., 14.053917 , 12.550379 ,\n",
       "        10.469872 ],\n",
       "       [ 7.633488 ,  2.9781308,  5.4563656, ..., 13.92146  , 12.431771 ,\n",
       "        10.350041 ],\n",
       "       [44.208363 , 34.440598 , 38.836384 , ..., 28.056719 , 24.895199 ,\n",
       "        23.021328 ],\n",
       "       ...,\n",
       "       [35.30704  , 26.624306 , 30.62209  , ..., 24.434658 , 21.747889 ,\n",
       "        19.794592 ],\n",
       "       [34.818367 , 26.197605 , 30.172623 , ..., 24.238922 , 21.57682  ,\n",
       "        19.619896 ],\n",
       "       [34.330578 , 25.771929 , 29.724123 , ..., 24.043867 , 21.406252 ,\n",
       "        19.445772 ]], dtype=float32)"
      ]
     },
     "execution_count": 15,
     "metadata": {},
     "output_type": "execute_result"
    }
   ],
   "source": [
    "Y_"
   ]
  },
  {
   "cell_type": "markdown",
   "id": "e68f354a",
   "metadata": {},
   "source": [
    "## Verificación de la predicción"
   ]
  },
  {
   "cell_type": "code",
   "execution_count": 16,
   "id": "539b605d",
   "metadata": {},
   "outputs": [
    {
     "data": {
      "text/html": [
       "<div>\n",
       "<style scoped>\n",
       "    .dataframe tbody tr th:only-of-type {\n",
       "        vertical-align: middle;\n",
       "    }\n",
       "\n",
       "    .dataframe tbody tr th {\n",
       "        vertical-align: top;\n",
       "    }\n",
       "\n",
       "    .dataframe thead th {\n",
       "        text-align: right;\n",
       "    }\n",
       "</style>\n",
       "<table border=\"1\" class=\"dataframe\">\n",
       "  <thead>\n",
       "    <tr style=\"text-align: right;\">\n",
       "      <th></th>\n",
       "      <th>fecha</th>\n",
       "      <th>dias_sig_mantto</th>\n",
       "    </tr>\n",
       "  </thead>\n",
       "  <tbody>\n",
       "    <tr>\n",
       "      <th>0</th>\n",
       "      <td>2017-02-01</td>\n",
       "      <td>120</td>\n",
       "    </tr>\n",
       "    <tr>\n",
       "      <th>1</th>\n",
       "      <td>2017-02-02</td>\n",
       "      <td>119</td>\n",
       "    </tr>\n",
       "    <tr>\n",
       "      <th>2</th>\n",
       "      <td>2017-02-03</td>\n",
       "      <td>118</td>\n",
       "    </tr>\n",
       "    <tr>\n",
       "      <th>3</th>\n",
       "      <td>2017-02-04</td>\n",
       "      <td>117</td>\n",
       "    </tr>\n",
       "    <tr>\n",
       "      <th>4</th>\n",
       "      <td>2017-02-05</td>\n",
       "      <td>116</td>\n",
       "    </tr>\n",
       "    <tr>\n",
       "      <th>...</th>\n",
       "      <td>...</td>\n",
       "      <td>...</td>\n",
       "    </tr>\n",
       "    <tr>\n",
       "      <th>1605</th>\n",
       "      <td>2021-06-25</td>\n",
       "      <td>104</td>\n",
       "    </tr>\n",
       "    <tr>\n",
       "      <th>1606</th>\n",
       "      <td>2021-06-26</td>\n",
       "      <td>103</td>\n",
       "    </tr>\n",
       "    <tr>\n",
       "      <th>1607</th>\n",
       "      <td>2021-06-27</td>\n",
       "      <td>102</td>\n",
       "    </tr>\n",
       "    <tr>\n",
       "      <th>1608</th>\n",
       "      <td>2021-06-28</td>\n",
       "      <td>101</td>\n",
       "    </tr>\n",
       "    <tr>\n",
       "      <th>1609</th>\n",
       "      <td>2021-06-29</td>\n",
       "      <td>100</td>\n",
       "    </tr>\n",
       "  </tbody>\n",
       "</table>\n",
       "<p>1610 rows × 2 columns</p>\n",
       "</div>"
      ],
      "text/plain": [
       "          fecha  dias_sig_mantto\n",
       "0    2017-02-01              120\n",
       "1    2017-02-02              119\n",
       "2    2017-02-03              118\n",
       "3    2017-02-04              117\n",
       "4    2017-02-05              116\n",
       "...         ...              ...\n",
       "1605 2021-06-25              104\n",
       "1606 2021-06-26              103\n",
       "1607 2021-06-27              102\n",
       "1608 2021-06-28              101\n",
       "1609 2021-06-29              100\n",
       "\n",
       "[1610 rows x 2 columns]"
      ]
     },
     "execution_count": 16,
     "metadata": {},
     "output_type": "execute_result"
    }
   ],
   "source": [
    "# Para realizar el forecast con las fechas recuperamos el dataframe original\n",
    "df = pd.read_excel(ruta_serie)\n",
    "df"
   ]
  },
  {
   "cell_type": "code",
   "execution_count": 17,
   "id": "7bfb499c",
   "metadata": {},
   "outputs": [
    {
     "data": {
      "text/html": [
       "<div>\n",
       "<style scoped>\n",
       "    .dataframe tbody tr th:only-of-type {\n",
       "        vertical-align: middle;\n",
       "    }\n",
       "\n",
       "    .dataframe tbody tr th {\n",
       "        vertical-align: top;\n",
       "    }\n",
       "\n",
       "    .dataframe thead th {\n",
       "        text-align: right;\n",
       "    }\n",
       "</style>\n",
       "<table border=\"1\" class=\"dataframe\">\n",
       "  <thead>\n",
       "    <tr style=\"text-align: right;\">\n",
       "      <th></th>\n",
       "      <th>Date</th>\n",
       "      <th>Actual</th>\n",
       "    </tr>\n",
       "  </thead>\n",
       "  <tbody>\n",
       "    <tr>\n",
       "      <th>0</th>\n",
       "      <td>2017-02-01</td>\n",
       "      <td>120</td>\n",
       "    </tr>\n",
       "    <tr>\n",
       "      <th>1</th>\n",
       "      <td>2017-02-02</td>\n",
       "      <td>119</td>\n",
       "    </tr>\n",
       "    <tr>\n",
       "      <th>2</th>\n",
       "      <td>2017-02-03</td>\n",
       "      <td>118</td>\n",
       "    </tr>\n",
       "    <tr>\n",
       "      <th>3</th>\n",
       "      <td>2017-02-04</td>\n",
       "      <td>117</td>\n",
       "    </tr>\n",
       "    <tr>\n",
       "      <th>4</th>\n",
       "      <td>2017-02-05</td>\n",
       "      <td>116</td>\n",
       "    </tr>\n",
       "    <tr>\n",
       "      <th>...</th>\n",
       "      <td>...</td>\n",
       "      <td>...</td>\n",
       "    </tr>\n",
       "    <tr>\n",
       "      <th>1605</th>\n",
       "      <td>2021-06-25</td>\n",
       "      <td>104</td>\n",
       "    </tr>\n",
       "    <tr>\n",
       "      <th>1606</th>\n",
       "      <td>2021-06-26</td>\n",
       "      <td>103</td>\n",
       "    </tr>\n",
       "    <tr>\n",
       "      <th>1607</th>\n",
       "      <td>2021-06-27</td>\n",
       "      <td>102</td>\n",
       "    </tr>\n",
       "    <tr>\n",
       "      <th>1608</th>\n",
       "      <td>2021-06-28</td>\n",
       "      <td>101</td>\n",
       "    </tr>\n",
       "    <tr>\n",
       "      <th>1609</th>\n",
       "      <td>2021-06-29</td>\n",
       "      <td>100</td>\n",
       "    </tr>\n",
       "  </tbody>\n",
       "</table>\n",
       "<p>1610 rows × 2 columns</p>\n",
       "</div>"
      ],
      "text/plain": [
       "           Date  Actual\n",
       "0    2017-02-01     120\n",
       "1    2017-02-02     119\n",
       "2    2017-02-03     118\n",
       "3    2017-02-04     117\n",
       "4    2017-02-05     116\n",
       "...         ...     ...\n",
       "1605 2021-06-25     104\n",
       "1606 2021-06-26     103\n",
       "1607 2021-06-27     102\n",
       "1608 2021-06-28     101\n",
       "1609 2021-06-29     100\n",
       "\n",
       "[1610 rows x 2 columns]"
      ]
     },
     "execution_count": 17,
     "metadata": {},
     "output_type": "execute_result"
    }
   ],
   "source": [
    "# Cambiamos los valores para diferenciar los valores anteriores y los nuevos\n",
    "df_past = df\n",
    "df_past.rename(columns={'fecha': 'Date', 'dias_sig_mantto': 'Actual'}, inplace=True)\n",
    "df_past"
   ]
  },
  {
   "cell_type": "code",
   "execution_count": 18,
   "id": "6b20092f",
   "metadata": {},
   "outputs": [
    {
     "name": "stderr",
     "output_type": "stream",
     "text": [
      "C:\\Users\\Jorge\\AppData\\Local\\Temp\\ipykernel_7384\\3032417082.py:5: SettingWithCopyWarning: \n",
      "A value is trying to be set on a copy of a slice from a DataFrame\n",
      "\n",
      "See the caveats in the documentation: https://pandas.pydata.org/pandas-docs/stable/user_guide/indexing.html#returning-a-view-versus-a-copy\n",
      "  df_past['Forecast'].iloc[-1] = df_past['Actual'].iloc[-1]\n"
     ]
    }
   ],
   "source": [
    "# Creamos un nuevo Dataframe con la columna \"Forecast\" llena de valores vacíos, esto para que ahí se agreguen los nuevos valores \n",
    "# de predicción\n",
    "df_past['Date'] = pd.to_datetime(df_past['Date'])\n",
    "df_past['Forecast'] = np.nan\n",
    "df_past['Forecast'].iloc[-1] = df_past['Actual'].iloc[-1]"
   ]
  },
  {
   "cell_type": "code",
   "execution_count": 19,
   "id": "6685dfc0",
   "metadata": {},
   "outputs": [],
   "source": [
    "# Creamos otro dataframe para agregar los nuevos valores de la predicción\n",
    "df_future = pd.DataFrame(columns=['Date', 'Actual', 'Forecast'])\n",
    "df_future['Date'] = pd.date_range(start=df_past['Date'].iloc[-1] + pd.Timedelta(days=1), periods=60)\n",
    "df_future['Forecast'] = Y_\n",
    "df_future['Actual'] = np.nan"
   ]
  },
  {
   "cell_type": "code",
   "execution_count": 20,
   "id": "1f3ae4c9",
   "metadata": {},
   "outputs": [
    {
     "name": "stderr",
     "output_type": "stream",
     "text": [
      "C:\\Users\\Jorge\\AppData\\Local\\Temp\\ipykernel_7384\\820912053.py:2: FutureWarning: The frame.append method is deprecated and will be removed from pandas in a future version. Use pandas.concat instead.\n",
      "  results = df_past.append(df_future).set_index('Date')\n"
     ]
    },
    {
     "data": {
      "text/plain": [
       "<AxesSubplot: title={'center': 'Forecast'}, xlabel='Date'>"
      ]
     },
     "execution_count": 20,
     "metadata": {},
     "output_type": "execute_result"
    },
    {
     "data": {
      "image/png": "[encoded data removed]",
      "text/plain": [
       "<Figure size 1000x500 with 1 Axes>"
      ]
     },
     "metadata": {},
     "output_type": "display_data"
    }
   ],
   "source": [
    "# Utilizamos los valores de ambos dataframe para unirlos por medio del index de la fecha y graficamos la información\n",
    "results = df_past.append(df_future).set_index('Date')\n",
    "plt.rcParams[\"figure.figsize\"] = (10, 5)\n",
    "# plot the results\n",
    "results.plot(title='Forecast')"
   ]
  },
  {
   "cell_type": "markdown",
   "id": "ad951b8f",
   "metadata": {},
   "source": [
    "## Guardado del modelo en un csv"
   ]
  },
  {
   "cell_type": "code",
   "execution_count": 21,
   "id": "ae0ea3ba",
   "metadata": {},
   "outputs": [],
   "source": [
    "results.to_csv(\"./predicciones/\"+ruta_serie[-31:-24]+\"_prediccion.csv\")"
   ]
  }
 ],
 "metadata": {
  "kernelspec": {
   "display_name": "Python 3 (ipykernel)",
   "language": "python",
   "name": "python3"
  },
  "language_info": {
   "codemirror_mode": {
    "name": "ipython",
    "version": 3
   },
   "file_extension": ".py",
   "mimetype": "text/x-python",
   "name": "python",
   "nbconvert_exporter": "python",
   "pygments_lexer": "ipython3",
   "version": "3.9.6"
  }
 },
 "nbformat": 4,
 "nbformat_minor": 5
}
