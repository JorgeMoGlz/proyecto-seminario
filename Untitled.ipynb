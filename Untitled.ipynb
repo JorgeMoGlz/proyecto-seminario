{
 "cells": [
  {
   "cell_type": "code",
   "execution_count": 1,
   "id": "58a25242",
   "metadata": {},
   "outputs": [],
   "source": [
    "import numpy as np\n",
    "import pandas as pd\n",
    "import seaborn as sns\n",
    "import matplotlib.pyplot as plt\n",
    "\n",
    "from numpy import mean\n",
    "from numpy import concatenate\n",
    "\n",
    "from itertools import product\n",
    "\n",
    "from keras.utils import to_categorical\n",
    "\n",
    "from sklearn.datasets import make_classification\n",
    "\n",
    "from sklearn.ensemble import RandomForestRegressor\n",
    "\n",
    "from sklearn.feature_selection import RFECV\n",
    "\n",
    "from sklearn.model_selection import cross_val_score\n",
    "from sklearn.model_selection import train_test_split\n",
    "from sklearn.model_selection import RepeatedStratifiedKFold\n",
    "\n",
    "from sklearn.preprocessing import MinMaxScaler\n",
    "\n",
    "from sklearn.tree import DecisionTreeClassifier\n",
    "\n",
    "from tensorflow.keras.models import Sequential\n",
    "from tensorflow.keras.layers import Dense"
   ]
  },
  {
   "cell_type": "code",
   "execution_count": 2,
   "id": "f4f8c253",
   "metadata": {},
   "outputs": [
    {
     "data": {
      "text/html": [
       "<div>\n",
       "<style scoped>\n",
       "    .dataframe tbody tr th:only-of-type {\n",
       "        vertical-align: middle;\n",
       "    }\n",
       "\n",
       "    .dataframe tbody tr th {\n",
       "        vertical-align: top;\n",
       "    }\n",
       "\n",
       "    .dataframe thead th {\n",
       "        text-align: right;\n",
       "    }\n",
       "</style>\n",
       "<table border=\"1\" class=\"dataframe\">\n",
       "  <thead>\n",
       "    <tr style=\"text-align: right;\">\n",
       "      <th></th>\n",
       "      <th>vel_motor</th>\n",
       "      <th>voltaje</th>\n",
       "      <th>mensaje_volt</th>\n",
       "      <th>horas_comp_trabajadas</th>\n",
       "      <th>temp_planta</th>\n",
       "      <th>Lamps</th>\n",
       "      <th>Lead Curtains</th>\n",
       "      <th>Radiation_mrh</th>\n",
       "      <th>problemas_rechazo</th>\n",
       "      <th>mantenimiento</th>\n",
       "      <th>rep_filtro_aire</th>\n",
       "      <th>rep_tubo</th>\n",
       "      <th>rep_tarjeta_detector</th>\n",
       "      <th>rep_IOB</th>\n",
       "      <th>rep_otras_tarj</th>\n",
       "      <th>rep_motor</th>\n",
       "      <th>rep_software</th>\n",
       "      <th>rep_PILZ</th>\n",
       "      <th>rep_shutter</th>\n",
       "      <th>rep_cables</th>\n",
       "    </tr>\n",
       "    <tr>\n",
       "      <th>fecha</th>\n",
       "      <th></th>\n",
       "      <th></th>\n",
       "      <th></th>\n",
       "      <th></th>\n",
       "      <th></th>\n",
       "      <th></th>\n",
       "      <th></th>\n",
       "      <th></th>\n",
       "      <th></th>\n",
       "      <th></th>\n",
       "      <th></th>\n",
       "      <th></th>\n",
       "      <th></th>\n",
       "      <th></th>\n",
       "      <th></th>\n",
       "      <th></th>\n",
       "      <th></th>\n",
       "      <th></th>\n",
       "      <th></th>\n",
       "      <th></th>\n",
       "    </tr>\n",
       "  </thead>\n",
       "  <tbody>\n",
       "    <tr>\n",
       "      <th>2017-02-01</th>\n",
       "      <td>26</td>\n",
       "      <td>219</td>\n",
       "      <td>0</td>\n",
       "      <td>8</td>\n",
       "      <td>28</td>\n",
       "      <td>2</td>\n",
       "      <td>2</td>\n",
       "      <td>0.02</td>\n",
       "      <td>0</td>\n",
       "      <td>0</td>\n",
       "      <td>0</td>\n",
       "      <td>0</td>\n",
       "      <td>0</td>\n",
       "      <td>0</td>\n",
       "      <td>0</td>\n",
       "      <td>0</td>\n",
       "      <td>0</td>\n",
       "      <td>0</td>\n",
       "      <td>0</td>\n",
       "      <td>0</td>\n",
       "    </tr>\n",
       "    <tr>\n",
       "      <th>2017-02-02</th>\n",
       "      <td>24</td>\n",
       "      <td>222</td>\n",
       "      <td>0</td>\n",
       "      <td>9</td>\n",
       "      <td>25</td>\n",
       "      <td>2</td>\n",
       "      <td>2</td>\n",
       "      <td>0.02</td>\n",
       "      <td>0</td>\n",
       "      <td>1</td>\n",
       "      <td>0</td>\n",
       "      <td>0</td>\n",
       "      <td>0</td>\n",
       "      <td>0</td>\n",
       "      <td>0</td>\n",
       "      <td>0</td>\n",
       "      <td>1</td>\n",
       "      <td>0</td>\n",
       "      <td>0</td>\n",
       "      <td>0</td>\n",
       "    </tr>\n",
       "    <tr>\n",
       "      <th>2017-02-03</th>\n",
       "      <td>24</td>\n",
       "      <td>222</td>\n",
       "      <td>0</td>\n",
       "      <td>9</td>\n",
       "      <td>30</td>\n",
       "      <td>2</td>\n",
       "      <td>2</td>\n",
       "      <td>0.02</td>\n",
       "      <td>0</td>\n",
       "      <td>1</td>\n",
       "      <td>0</td>\n",
       "      <td>0</td>\n",
       "      <td>0</td>\n",
       "      <td>0</td>\n",
       "      <td>0</td>\n",
       "      <td>0</td>\n",
       "      <td>1</td>\n",
       "      <td>0</td>\n",
       "      <td>0</td>\n",
       "      <td>0</td>\n",
       "    </tr>\n",
       "    <tr>\n",
       "      <th>2017-02-04</th>\n",
       "      <td>22</td>\n",
       "      <td>216</td>\n",
       "      <td>0</td>\n",
       "      <td>9</td>\n",
       "      <td>29</td>\n",
       "      <td>2</td>\n",
       "      <td>2</td>\n",
       "      <td>0.02</td>\n",
       "      <td>0</td>\n",
       "      <td>0</td>\n",
       "      <td>0</td>\n",
       "      <td>0</td>\n",
       "      <td>0</td>\n",
       "      <td>0</td>\n",
       "      <td>0</td>\n",
       "      <td>0</td>\n",
       "      <td>0</td>\n",
       "      <td>0</td>\n",
       "      <td>0</td>\n",
       "      <td>0</td>\n",
       "    </tr>\n",
       "    <tr>\n",
       "      <th>2017-02-05</th>\n",
       "      <td>24</td>\n",
       "      <td>222</td>\n",
       "      <td>0</td>\n",
       "      <td>8</td>\n",
       "      <td>26</td>\n",
       "      <td>2</td>\n",
       "      <td>2</td>\n",
       "      <td>0.02</td>\n",
       "      <td>0</td>\n",
       "      <td>0</td>\n",
       "      <td>0</td>\n",
       "      <td>0</td>\n",
       "      <td>0</td>\n",
       "      <td>0</td>\n",
       "      <td>0</td>\n",
       "      <td>0</td>\n",
       "      <td>0</td>\n",
       "      <td>0</td>\n",
       "      <td>0</td>\n",
       "      <td>0</td>\n",
       "    </tr>\n",
       "    <tr>\n",
       "      <th>...</th>\n",
       "      <td>...</td>\n",
       "      <td>...</td>\n",
       "      <td>...</td>\n",
       "      <td>...</td>\n",
       "      <td>...</td>\n",
       "      <td>...</td>\n",
       "      <td>...</td>\n",
       "      <td>...</td>\n",
       "      <td>...</td>\n",
       "      <td>...</td>\n",
       "      <td>...</td>\n",
       "      <td>...</td>\n",
       "      <td>...</td>\n",
       "      <td>...</td>\n",
       "      <td>...</td>\n",
       "      <td>...</td>\n",
       "      <td>...</td>\n",
       "      <td>...</td>\n",
       "      <td>...</td>\n",
       "      <td>...</td>\n",
       "    </tr>\n",
       "    <tr>\n",
       "      <th>2022-04-06</th>\n",
       "      <td>26</td>\n",
       "      <td>226</td>\n",
       "      <td>0</td>\n",
       "      <td>8</td>\n",
       "      <td>26</td>\n",
       "      <td>2</td>\n",
       "      <td>2</td>\n",
       "      <td>0.02</td>\n",
       "      <td>1</td>\n",
       "      <td>0</td>\n",
       "      <td>0</td>\n",
       "      <td>0</td>\n",
       "      <td>0</td>\n",
       "      <td>0</td>\n",
       "      <td>0</td>\n",
       "      <td>0</td>\n",
       "      <td>0</td>\n",
       "      <td>0</td>\n",
       "      <td>0</td>\n",
       "      <td>0</td>\n",
       "    </tr>\n",
       "    <tr>\n",
       "      <th>2022-04-07</th>\n",
       "      <td>20</td>\n",
       "      <td>216</td>\n",
       "      <td>0</td>\n",
       "      <td>8</td>\n",
       "      <td>27</td>\n",
       "      <td>2</td>\n",
       "      <td>2</td>\n",
       "      <td>0.02</td>\n",
       "      <td>0</td>\n",
       "      <td>0</td>\n",
       "      <td>0</td>\n",
       "      <td>0</td>\n",
       "      <td>0</td>\n",
       "      <td>0</td>\n",
       "      <td>0</td>\n",
       "      <td>0</td>\n",
       "      <td>0</td>\n",
       "      <td>0</td>\n",
       "      <td>0</td>\n",
       "      <td>0</td>\n",
       "    </tr>\n",
       "    <tr>\n",
       "      <th>2022-04-08</th>\n",
       "      <td>29</td>\n",
       "      <td>230</td>\n",
       "      <td>0</td>\n",
       "      <td>8</td>\n",
       "      <td>33</td>\n",
       "      <td>2</td>\n",
       "      <td>2</td>\n",
       "      <td>0.02</td>\n",
       "      <td>0</td>\n",
       "      <td>0</td>\n",
       "      <td>0</td>\n",
       "      <td>0</td>\n",
       "      <td>0</td>\n",
       "      <td>0</td>\n",
       "      <td>0</td>\n",
       "      <td>0</td>\n",
       "      <td>0</td>\n",
       "      <td>0</td>\n",
       "      <td>0</td>\n",
       "      <td>0</td>\n",
       "    </tr>\n",
       "    <tr>\n",
       "      <th>2022-04-09</th>\n",
       "      <td>24</td>\n",
       "      <td>216</td>\n",
       "      <td>0</td>\n",
       "      <td>7</td>\n",
       "      <td>33</td>\n",
       "      <td>2</td>\n",
       "      <td>2</td>\n",
       "      <td>0.02</td>\n",
       "      <td>0</td>\n",
       "      <td>0</td>\n",
       "      <td>0</td>\n",
       "      <td>0</td>\n",
       "      <td>0</td>\n",
       "      <td>0</td>\n",
       "      <td>0</td>\n",
       "      <td>0</td>\n",
       "      <td>0</td>\n",
       "      <td>0</td>\n",
       "      <td>0</td>\n",
       "      <td>0</td>\n",
       "    </tr>\n",
       "    <tr>\n",
       "      <th>2022-04-10</th>\n",
       "      <td>26</td>\n",
       "      <td>226</td>\n",
       "      <td>0</td>\n",
       "      <td>9</td>\n",
       "      <td>29</td>\n",
       "      <td>2</td>\n",
       "      <td>2</td>\n",
       "      <td>0.02</td>\n",
       "      <td>0</td>\n",
       "      <td>0</td>\n",
       "      <td>0</td>\n",
       "      <td>0</td>\n",
       "      <td>0</td>\n",
       "      <td>0</td>\n",
       "      <td>0</td>\n",
       "      <td>0</td>\n",
       "      <td>0</td>\n",
       "      <td>0</td>\n",
       "      <td>0</td>\n",
       "      <td>0</td>\n",
       "    </tr>\n",
       "  </tbody>\n",
       "</table>\n",
       "<p>1895 rows × 20 columns</p>\n",
       "</div>"
      ],
      "text/plain": [
       "            vel_motor  voltaje  mensaje_volt  horas_comp_trabajadas  \\\n",
       "fecha                                                                 \n",
       "2017-02-01         26      219             0                      8   \n",
       "2017-02-02         24      222             0                      9   \n",
       "2017-02-03         24      222             0                      9   \n",
       "2017-02-04         22      216             0                      9   \n",
       "2017-02-05         24      222             0                      8   \n",
       "...               ...      ...           ...                    ...   \n",
       "2022-04-06         26      226             0                      8   \n",
       "2022-04-07         20      216             0                      8   \n",
       "2022-04-08         29      230             0                      8   \n",
       "2022-04-09         24      216             0                      7   \n",
       "2022-04-10         26      226             0                      9   \n",
       "\n",
       "            temp_planta  Lamps  Lead Curtains  Radiation_mrh  \\\n",
       "fecha                                                          \n",
       "2017-02-01           28      2              2           0.02   \n",
       "2017-02-02           25      2              2           0.02   \n",
       "2017-02-03           30      2              2           0.02   \n",
       "2017-02-04           29      2              2           0.02   \n",
       "2017-02-05           26      2              2           0.02   \n",
       "...                 ...    ...            ...            ...   \n",
       "2022-04-06           26      2              2           0.02   \n",
       "2022-04-07           27      2              2           0.02   \n",
       "2022-04-08           33      2              2           0.02   \n",
       "2022-04-09           33      2              2           0.02   \n",
       "2022-04-10           29      2              2           0.02   \n",
       "\n",
       "            problemas_rechazo  mantenimiento  rep_filtro_aire  rep_tubo  \\\n",
       "fecha                                                                     \n",
       "2017-02-01                  0              0                0         0   \n",
       "2017-02-02                  0              1                0         0   \n",
       "2017-02-03                  0              1                0         0   \n",
       "2017-02-04                  0              0                0         0   \n",
       "2017-02-05                  0              0                0         0   \n",
       "...                       ...            ...              ...       ...   \n",
       "2022-04-06                  1              0                0         0   \n",
       "2022-04-07                  0              0                0         0   \n",
       "2022-04-08                  0              0                0         0   \n",
       "2022-04-09                  0              0                0         0   \n",
       "2022-04-10                  0              0                0         0   \n",
       "\n",
       "            rep_tarjeta_detector  rep_IOB  rep_otras_tarj  rep_motor  \\\n",
       "fecha                                                                  \n",
       "2017-02-01                     0        0               0          0   \n",
       "2017-02-02                     0        0               0          0   \n",
       "2017-02-03                     0        0               0          0   \n",
       "2017-02-04                     0        0               0          0   \n",
       "2017-02-05                     0        0               0          0   \n",
       "...                          ...      ...             ...        ...   \n",
       "2022-04-06                     0        0               0          0   \n",
       "2022-04-07                     0        0               0          0   \n",
       "2022-04-08                     0        0               0          0   \n",
       "2022-04-09                     0        0               0          0   \n",
       "2022-04-10                     0        0               0          0   \n",
       "\n",
       "            rep_software  rep_PILZ  rep_shutter  rep_cables  \n",
       "fecha                                                        \n",
       "2017-02-01             0         0            0           0  \n",
       "2017-02-02             1         0            0           0  \n",
       "2017-02-03             1         0            0           0  \n",
       "2017-02-04             0         0            0           0  \n",
       "2017-02-05             0         0            0           0  \n",
       "...                  ...       ...          ...         ...  \n",
       "2022-04-06             0         0            0           0  \n",
       "2022-04-07             0         0            0           0  \n",
       "2022-04-08             0         0            0           0  \n",
       "2022-04-09             0         0            0           0  \n",
       "2022-04-10             0         0            0           0  \n",
       "\n",
       "[1895 rows x 20 columns]"
      ]
     },
     "execution_count": 2,
     "metadata": {},
     "output_type": "execute_result"
    }
   ],
   "source": [
    "df_E162533 = pd.read_excel(\"./datasets/equipo-E162533.xlsx\")\n",
    "df_E162533_original = df_E162533\n",
    "df_E162533 = df_E162533.set_index(\"fecha\")\n",
    "df_E162533"
   ]
  },
  {
   "cell_type": "code",
   "execution_count": 3,
   "id": "465781b9",
   "metadata": {},
   "outputs": [
    {
     "data": {
      "text/html": [
       "<div>\n",
       "<style scoped>\n",
       "    .dataframe tbody tr th:only-of-type {\n",
       "        vertical-align: middle;\n",
       "    }\n",
       "\n",
       "    .dataframe tbody tr th {\n",
       "        vertical-align: top;\n",
       "    }\n",
       "\n",
       "    .dataframe thead th {\n",
       "        text-align: right;\n",
       "    }\n",
       "</style>\n",
       "<table border=\"1\" class=\"dataframe\">\n",
       "  <thead>\n",
       "    <tr style=\"text-align: right;\">\n",
       "      <th></th>\n",
       "      <th>vel_motor</th>\n",
       "      <th>voltaje</th>\n",
       "      <th>mensaje_volt</th>\n",
       "      <th>horas_comp_trabajadas</th>\n",
       "      <th>temp_planta</th>\n",
       "      <th>Lamps</th>\n",
       "      <th>Lead Curtains</th>\n",
       "      <th>Radiation_mrh</th>\n",
       "      <th>problemas_rechazo</th>\n",
       "      <th>mantenimiento</th>\n",
       "    </tr>\n",
       "    <tr>\n",
       "      <th>fecha</th>\n",
       "      <th></th>\n",
       "      <th></th>\n",
       "      <th></th>\n",
       "      <th></th>\n",
       "      <th></th>\n",
       "      <th></th>\n",
       "      <th></th>\n",
       "      <th></th>\n",
       "      <th></th>\n",
       "      <th></th>\n",
       "    </tr>\n",
       "  </thead>\n",
       "  <tbody>\n",
       "    <tr>\n",
       "      <th>2017-02-01</th>\n",
       "      <td>26</td>\n",
       "      <td>219</td>\n",
       "      <td>0</td>\n",
       "      <td>8</td>\n",
       "      <td>28</td>\n",
       "      <td>2</td>\n",
       "      <td>2</td>\n",
       "      <td>0.02</td>\n",
       "      <td>0</td>\n",
       "      <td>0</td>\n",
       "    </tr>\n",
       "    <tr>\n",
       "      <th>2017-02-02</th>\n",
       "      <td>24</td>\n",
       "      <td>222</td>\n",
       "      <td>0</td>\n",
       "      <td>9</td>\n",
       "      <td>25</td>\n",
       "      <td>2</td>\n",
       "      <td>2</td>\n",
       "      <td>0.02</td>\n",
       "      <td>0</td>\n",
       "      <td>1</td>\n",
       "    </tr>\n",
       "    <tr>\n",
       "      <th>2017-02-03</th>\n",
       "      <td>24</td>\n",
       "      <td>222</td>\n",
       "      <td>0</td>\n",
       "      <td>9</td>\n",
       "      <td>30</td>\n",
       "      <td>2</td>\n",
       "      <td>2</td>\n",
       "      <td>0.02</td>\n",
       "      <td>0</td>\n",
       "      <td>1</td>\n",
       "    </tr>\n",
       "    <tr>\n",
       "      <th>2017-02-04</th>\n",
       "      <td>22</td>\n",
       "      <td>216</td>\n",
       "      <td>0</td>\n",
       "      <td>9</td>\n",
       "      <td>29</td>\n",
       "      <td>2</td>\n",
       "      <td>2</td>\n",
       "      <td>0.02</td>\n",
       "      <td>0</td>\n",
       "      <td>0</td>\n",
       "    </tr>\n",
       "    <tr>\n",
       "      <th>2017-02-05</th>\n",
       "      <td>24</td>\n",
       "      <td>222</td>\n",
       "      <td>0</td>\n",
       "      <td>8</td>\n",
       "      <td>26</td>\n",
       "      <td>2</td>\n",
       "      <td>2</td>\n",
       "      <td>0.02</td>\n",
       "      <td>0</td>\n",
       "      <td>0</td>\n",
       "    </tr>\n",
       "    <tr>\n",
       "      <th>...</th>\n",
       "      <td>...</td>\n",
       "      <td>...</td>\n",
       "      <td>...</td>\n",
       "      <td>...</td>\n",
       "      <td>...</td>\n",
       "      <td>...</td>\n",
       "      <td>...</td>\n",
       "      <td>...</td>\n",
       "      <td>...</td>\n",
       "      <td>...</td>\n",
       "    </tr>\n",
       "    <tr>\n",
       "      <th>2022-04-06</th>\n",
       "      <td>26</td>\n",
       "      <td>226</td>\n",
       "      <td>0</td>\n",
       "      <td>8</td>\n",
       "      <td>26</td>\n",
       "      <td>2</td>\n",
       "      <td>2</td>\n",
       "      <td>0.02</td>\n",
       "      <td>1</td>\n",
       "      <td>0</td>\n",
       "    </tr>\n",
       "    <tr>\n",
       "      <th>2022-04-07</th>\n",
       "      <td>20</td>\n",
       "      <td>216</td>\n",
       "      <td>0</td>\n",
       "      <td>8</td>\n",
       "      <td>27</td>\n",
       "      <td>2</td>\n",
       "      <td>2</td>\n",
       "      <td>0.02</td>\n",
       "      <td>0</td>\n",
       "      <td>0</td>\n",
       "    </tr>\n",
       "    <tr>\n",
       "      <th>2022-04-08</th>\n",
       "      <td>29</td>\n",
       "      <td>230</td>\n",
       "      <td>0</td>\n",
       "      <td>8</td>\n",
       "      <td>33</td>\n",
       "      <td>2</td>\n",
       "      <td>2</td>\n",
       "      <td>0.02</td>\n",
       "      <td>0</td>\n",
       "      <td>0</td>\n",
       "    </tr>\n",
       "    <tr>\n",
       "      <th>2022-04-09</th>\n",
       "      <td>24</td>\n",
       "      <td>216</td>\n",
       "      <td>0</td>\n",
       "      <td>7</td>\n",
       "      <td>33</td>\n",
       "      <td>2</td>\n",
       "      <td>2</td>\n",
       "      <td>0.02</td>\n",
       "      <td>0</td>\n",
       "      <td>0</td>\n",
       "    </tr>\n",
       "    <tr>\n",
       "      <th>2022-04-10</th>\n",
       "      <td>26</td>\n",
       "      <td>226</td>\n",
       "      <td>0</td>\n",
       "      <td>9</td>\n",
       "      <td>29</td>\n",
       "      <td>2</td>\n",
       "      <td>2</td>\n",
       "      <td>0.02</td>\n",
       "      <td>0</td>\n",
       "      <td>0</td>\n",
       "    </tr>\n",
       "  </tbody>\n",
       "</table>\n",
       "<p>1895 rows × 10 columns</p>\n",
       "</div>"
      ],
      "text/plain": [
       "            vel_motor  voltaje  mensaje_volt  horas_comp_trabajadas  \\\n",
       "fecha                                                                 \n",
       "2017-02-01         26      219             0                      8   \n",
       "2017-02-02         24      222             0                      9   \n",
       "2017-02-03         24      222             0                      9   \n",
       "2017-02-04         22      216             0                      9   \n",
       "2017-02-05         24      222             0                      8   \n",
       "...               ...      ...           ...                    ...   \n",
       "2022-04-06         26      226             0                      8   \n",
       "2022-04-07         20      216             0                      8   \n",
       "2022-04-08         29      230             0                      8   \n",
       "2022-04-09         24      216             0                      7   \n",
       "2022-04-10         26      226             0                      9   \n",
       "\n",
       "            temp_planta  Lamps  Lead Curtains  Radiation_mrh  \\\n",
       "fecha                                                          \n",
       "2017-02-01           28      2              2           0.02   \n",
       "2017-02-02           25      2              2           0.02   \n",
       "2017-02-03           30      2              2           0.02   \n",
       "2017-02-04           29      2              2           0.02   \n",
       "2017-02-05           26      2              2           0.02   \n",
       "...                 ...    ...            ...            ...   \n",
       "2022-04-06           26      2              2           0.02   \n",
       "2022-04-07           27      2              2           0.02   \n",
       "2022-04-08           33      2              2           0.02   \n",
       "2022-04-09           33      2              2           0.02   \n",
       "2022-04-10           29      2              2           0.02   \n",
       "\n",
       "            problemas_rechazo  mantenimiento  \n",
       "fecha                                         \n",
       "2017-02-01                  0              0  \n",
       "2017-02-02                  0              1  \n",
       "2017-02-03                  0              1  \n",
       "2017-02-04                  0              0  \n",
       "2017-02-05                  0              0  \n",
       "...                       ...            ...  \n",
       "2022-04-06                  1              0  \n",
       "2022-04-07                  0              0  \n",
       "2022-04-08                  0              0  \n",
       "2022-04-09                  0              0  \n",
       "2022-04-10                  0              0  \n",
       "\n",
       "[1895 rows x 10 columns]"
      ]
     },
     "execution_count": 3,
     "metadata": {},
     "output_type": "execute_result"
    }
   ],
   "source": [
    "df_mantenimiento = df_E162533[[\"vel_motor\",\"voltaje\",\"mensaje_volt\",\"horas_comp_trabajadas\",\"temp_planta\",\"Lamps\",\"Lead Curtains\", \"Radiation_mrh\",\"problemas_rechazo\",\"mantenimiento\"]]\n",
    "df_mantenimiento"
   ]
  },
  {
   "cell_type": "code",
   "execution_count": 4,
   "id": "b1985f47",
   "metadata": {},
   "outputs": [],
   "source": [
    "df_E162533_original.drop(df_E162533_original.loc[df_E162533_original['mantenimiento']==0].index, inplace=True)"
   ]
  },
  {
   "cell_type": "code",
   "execution_count": 5,
   "id": "045e385c",
   "metadata": {},
   "outputs": [
    {
     "data": {
      "text/html": [
       "<div>\n",
       "<style scoped>\n",
       "    .dataframe tbody tr th:only-of-type {\n",
       "        vertical-align: middle;\n",
       "    }\n",
       "\n",
       "    .dataframe tbody tr th {\n",
       "        vertical-align: top;\n",
       "    }\n",
       "\n",
       "    .dataframe thead th {\n",
       "        text-align: right;\n",
       "    }\n",
       "</style>\n",
       "<table border=\"1\" class=\"dataframe\">\n",
       "  <thead>\n",
       "    <tr style=\"text-align: right;\">\n",
       "      <th></th>\n",
       "      <th>fecha</th>\n",
       "      <th>vel_motor</th>\n",
       "      <th>voltaje</th>\n",
       "      <th>mensaje_volt</th>\n",
       "      <th>horas_comp_trabajadas</th>\n",
       "      <th>temp_planta</th>\n",
       "      <th>Lamps</th>\n",
       "      <th>Lead Curtains</th>\n",
       "      <th>Radiation_mrh</th>\n",
       "      <th>problemas_rechazo</th>\n",
       "      <th>...</th>\n",
       "      <th>rep_filtro_aire</th>\n",
       "      <th>rep_tubo</th>\n",
       "      <th>rep_tarjeta_detector</th>\n",
       "      <th>rep_IOB</th>\n",
       "      <th>rep_otras_tarj</th>\n",
       "      <th>rep_motor</th>\n",
       "      <th>rep_software</th>\n",
       "      <th>rep_PILZ</th>\n",
       "      <th>rep_shutter</th>\n",
       "      <th>rep_cables</th>\n",
       "    </tr>\n",
       "  </thead>\n",
       "  <tbody>\n",
       "    <tr>\n",
       "      <th>1</th>\n",
       "      <td>2017-02-02</td>\n",
       "      <td>24</td>\n",
       "      <td>222</td>\n",
       "      <td>0</td>\n",
       "      <td>9</td>\n",
       "      <td>25</td>\n",
       "      <td>2</td>\n",
       "      <td>2</td>\n",
       "      <td>0.02</td>\n",
       "      <td>0</td>\n",
       "      <td>...</td>\n",
       "      <td>0</td>\n",
       "      <td>0</td>\n",
       "      <td>0</td>\n",
       "      <td>0</td>\n",
       "      <td>0</td>\n",
       "      <td>0</td>\n",
       "      <td>1</td>\n",
       "      <td>0</td>\n",
       "      <td>0</td>\n",
       "      <td>0</td>\n",
       "    </tr>\n",
       "    <tr>\n",
       "      <th>2</th>\n",
       "      <td>2017-02-03</td>\n",
       "      <td>24</td>\n",
       "      <td>222</td>\n",
       "      <td>0</td>\n",
       "      <td>9</td>\n",
       "      <td>30</td>\n",
       "      <td>2</td>\n",
       "      <td>2</td>\n",
       "      <td>0.02</td>\n",
       "      <td>0</td>\n",
       "      <td>...</td>\n",
       "      <td>0</td>\n",
       "      <td>0</td>\n",
       "      <td>0</td>\n",
       "      <td>0</td>\n",
       "      <td>0</td>\n",
       "      <td>0</td>\n",
       "      <td>1</td>\n",
       "      <td>0</td>\n",
       "      <td>0</td>\n",
       "      <td>0</td>\n",
       "    </tr>\n",
       "    <tr>\n",
       "      <th>28</th>\n",
       "      <td>2017-03-01</td>\n",
       "      <td>18</td>\n",
       "      <td>223</td>\n",
       "      <td>1</td>\n",
       "      <td>8</td>\n",
       "      <td>30</td>\n",
       "      <td>2</td>\n",
       "      <td>2</td>\n",
       "      <td>0.02</td>\n",
       "      <td>0</td>\n",
       "      <td>...</td>\n",
       "      <td>0</td>\n",
       "      <td>0</td>\n",
       "      <td>0</td>\n",
       "      <td>0</td>\n",
       "      <td>0</td>\n",
       "      <td>0</td>\n",
       "      <td>0</td>\n",
       "      <td>0</td>\n",
       "      <td>0</td>\n",
       "      <td>0</td>\n",
       "    </tr>\n",
       "    <tr>\n",
       "      <th>45</th>\n",
       "      <td>2017-03-18</td>\n",
       "      <td>20</td>\n",
       "      <td>223</td>\n",
       "      <td>0</td>\n",
       "      <td>9</td>\n",
       "      <td>29</td>\n",
       "      <td>2</td>\n",
       "      <td>2</td>\n",
       "      <td>0.02</td>\n",
       "      <td>0</td>\n",
       "      <td>...</td>\n",
       "      <td>0</td>\n",
       "      <td>0</td>\n",
       "      <td>0</td>\n",
       "      <td>0</td>\n",
       "      <td>0</td>\n",
       "      <td>0</td>\n",
       "      <td>0</td>\n",
       "      <td>0</td>\n",
       "      <td>0</td>\n",
       "      <td>0</td>\n",
       "    </tr>\n",
       "    <tr>\n",
       "      <th>74</th>\n",
       "      <td>2017-04-16</td>\n",
       "      <td>24</td>\n",
       "      <td>220</td>\n",
       "      <td>0</td>\n",
       "      <td>8</td>\n",
       "      <td>28</td>\n",
       "      <td>2</td>\n",
       "      <td>2</td>\n",
       "      <td>0.04</td>\n",
       "      <td>0</td>\n",
       "      <td>...</td>\n",
       "      <td>0</td>\n",
       "      <td>0</td>\n",
       "      <td>0</td>\n",
       "      <td>0</td>\n",
       "      <td>0</td>\n",
       "      <td>0</td>\n",
       "      <td>0</td>\n",
       "      <td>0</td>\n",
       "      <td>0</td>\n",
       "      <td>0</td>\n",
       "    </tr>\n",
       "    <tr>\n",
       "      <th>...</th>\n",
       "      <td>...</td>\n",
       "      <td>...</td>\n",
       "      <td>...</td>\n",
       "      <td>...</td>\n",
       "      <td>...</td>\n",
       "      <td>...</td>\n",
       "      <td>...</td>\n",
       "      <td>...</td>\n",
       "      <td>...</td>\n",
       "      <td>...</td>\n",
       "      <td>...</td>\n",
       "      <td>...</td>\n",
       "      <td>...</td>\n",
       "      <td>...</td>\n",
       "      <td>...</td>\n",
       "      <td>...</td>\n",
       "      <td>...</td>\n",
       "      <td>...</td>\n",
       "      <td>...</td>\n",
       "      <td>...</td>\n",
       "      <td>...</td>\n",
       "    </tr>\n",
       "    <tr>\n",
       "      <th>1776</th>\n",
       "      <td>2021-12-13</td>\n",
       "      <td>27</td>\n",
       "      <td>227</td>\n",
       "      <td>1</td>\n",
       "      <td>9</td>\n",
       "      <td>29</td>\n",
       "      <td>2</td>\n",
       "      <td>2</td>\n",
       "      <td>0.02</td>\n",
       "      <td>1</td>\n",
       "      <td>...</td>\n",
       "      <td>0</td>\n",
       "      <td>0</td>\n",
       "      <td>0</td>\n",
       "      <td>0</td>\n",
       "      <td>0</td>\n",
       "      <td>0</td>\n",
       "      <td>0</td>\n",
       "      <td>0</td>\n",
       "      <td>0</td>\n",
       "      <td>0</td>\n",
       "    </tr>\n",
       "    <tr>\n",
       "      <th>1795</th>\n",
       "      <td>2022-01-01</td>\n",
       "      <td>28</td>\n",
       "      <td>215</td>\n",
       "      <td>0</td>\n",
       "      <td>8</td>\n",
       "      <td>33</td>\n",
       "      <td>2</td>\n",
       "      <td>2</td>\n",
       "      <td>0.02</td>\n",
       "      <td>0</td>\n",
       "      <td>...</td>\n",
       "      <td>0</td>\n",
       "      <td>0</td>\n",
       "      <td>0</td>\n",
       "      <td>0</td>\n",
       "      <td>0</td>\n",
       "      <td>0</td>\n",
       "      <td>0</td>\n",
       "      <td>0</td>\n",
       "      <td>0</td>\n",
       "      <td>0</td>\n",
       "    </tr>\n",
       "    <tr>\n",
       "      <th>1812</th>\n",
       "      <td>2022-01-18</td>\n",
       "      <td>26</td>\n",
       "      <td>221</td>\n",
       "      <td>0</td>\n",
       "      <td>9</td>\n",
       "      <td>30</td>\n",
       "      <td>2</td>\n",
       "      <td>2</td>\n",
       "      <td>0.02</td>\n",
       "      <td>1</td>\n",
       "      <td>...</td>\n",
       "      <td>0</td>\n",
       "      <td>0</td>\n",
       "      <td>0</td>\n",
       "      <td>1</td>\n",
       "      <td>0</td>\n",
       "      <td>0</td>\n",
       "      <td>0</td>\n",
       "      <td>0</td>\n",
       "      <td>0</td>\n",
       "      <td>1</td>\n",
       "    </tr>\n",
       "    <tr>\n",
       "      <th>1847</th>\n",
       "      <td>2022-02-22</td>\n",
       "      <td>19</td>\n",
       "      <td>221</td>\n",
       "      <td>0</td>\n",
       "      <td>7</td>\n",
       "      <td>25</td>\n",
       "      <td>2</td>\n",
       "      <td>2</td>\n",
       "      <td>0.02</td>\n",
       "      <td>0</td>\n",
       "      <td>...</td>\n",
       "      <td>0</td>\n",
       "      <td>0</td>\n",
       "      <td>0</td>\n",
       "      <td>0</td>\n",
       "      <td>0</td>\n",
       "      <td>0</td>\n",
       "      <td>0</td>\n",
       "      <td>0</td>\n",
       "      <td>0</td>\n",
       "      <td>0</td>\n",
       "    </tr>\n",
       "    <tr>\n",
       "      <th>1873</th>\n",
       "      <td>2022-03-20</td>\n",
       "      <td>28</td>\n",
       "      <td>233</td>\n",
       "      <td>1</td>\n",
       "      <td>8</td>\n",
       "      <td>34</td>\n",
       "      <td>2</td>\n",
       "      <td>2</td>\n",
       "      <td>0.02</td>\n",
       "      <td>1</td>\n",
       "      <td>...</td>\n",
       "      <td>0</td>\n",
       "      <td>0</td>\n",
       "      <td>1</td>\n",
       "      <td>1</td>\n",
       "      <td>0</td>\n",
       "      <td>0</td>\n",
       "      <td>0</td>\n",
       "      <td>0</td>\n",
       "      <td>0</td>\n",
       "      <td>0</td>\n",
       "    </tr>\n",
       "  </tbody>\n",
       "</table>\n",
       "<p>111 rows × 21 columns</p>\n",
       "</div>"
      ],
      "text/plain": [
       "          fecha  vel_motor  voltaje  mensaje_volt  horas_comp_trabajadas  \\\n",
       "1    2017-02-02         24      222             0                      9   \n",
       "2    2017-02-03         24      222             0                      9   \n",
       "28   2017-03-01         18      223             1                      8   \n",
       "45   2017-03-18         20      223             0                      9   \n",
       "74   2017-04-16         24      220             0                      8   \n",
       "...         ...        ...      ...           ...                    ...   \n",
       "1776 2021-12-13         27      227             1                      9   \n",
       "1795 2022-01-01         28      215             0                      8   \n",
       "1812 2022-01-18         26      221             0                      9   \n",
       "1847 2022-02-22         19      221             0                      7   \n",
       "1873 2022-03-20         28      233             1                      8   \n",
       "\n",
       "      temp_planta  Lamps  Lead Curtains  Radiation_mrh  problemas_rechazo  \\\n",
       "1              25      2              2           0.02                  0   \n",
       "2              30      2              2           0.02                  0   \n",
       "28             30      2              2           0.02                  0   \n",
       "45             29      2              2           0.02                  0   \n",
       "74             28      2              2           0.04                  0   \n",
       "...           ...    ...            ...            ...                ...   \n",
       "1776           29      2              2           0.02                  1   \n",
       "1795           33      2              2           0.02                  0   \n",
       "1812           30      2              2           0.02                  1   \n",
       "1847           25      2              2           0.02                  0   \n",
       "1873           34      2              2           0.02                  1   \n",
       "\n",
       "      ...  rep_filtro_aire  rep_tubo  rep_tarjeta_detector  rep_IOB  \\\n",
       "1     ...                0         0                     0        0   \n",
       "2     ...                0         0                     0        0   \n",
       "28    ...                0         0                     0        0   \n",
       "45    ...                0         0                     0        0   \n",
       "74    ...                0         0                     0        0   \n",
       "...   ...              ...       ...                   ...      ...   \n",
       "1776  ...                0         0                     0        0   \n",
       "1795  ...                0         0                     0        0   \n",
       "1812  ...                0         0                     0        1   \n",
       "1847  ...                0         0                     0        0   \n",
       "1873  ...                0         0                     1        1   \n",
       "\n",
       "      rep_otras_tarj  rep_motor  rep_software  rep_PILZ  rep_shutter  \\\n",
       "1                  0          0             1         0            0   \n",
       "2                  0          0             1         0            0   \n",
       "28                 0          0             0         0            0   \n",
       "45                 0          0             0         0            0   \n",
       "74                 0          0             0         0            0   \n",
       "...              ...        ...           ...       ...          ...   \n",
       "1776               0          0             0         0            0   \n",
       "1795               0          0             0         0            0   \n",
       "1812               0          0             0         0            0   \n",
       "1847               0          0             0         0            0   \n",
       "1873               0          0             0         0            0   \n",
       "\n",
       "      rep_cables  \n",
       "1              0  \n",
       "2              0  \n",
       "28             0  \n",
       "45             0  \n",
       "74             0  \n",
       "...          ...  \n",
       "1776           0  \n",
       "1795           0  \n",
       "1812           1  \n",
       "1847           0  \n",
       "1873           0  \n",
       "\n",
       "[111 rows x 21 columns]"
      ]
     },
     "execution_count": 5,
     "metadata": {},
     "output_type": "execute_result"
    }
   ],
   "source": [
    "df_E162533_original"
   ]
  },
  {
   "cell_type": "code",
   "execution_count": 6,
   "id": "3e7825be",
   "metadata": {},
   "outputs": [],
   "source": [
    "features = [\"vel_motor\",\"voltaje\",\"mensaje_volt\",\"horas_comp_trabajadas\",\"temp_planta\",\"Lamps\",\"Lead Curtains\", \"Radiation_mrh\",\"problemas_rechazo\"]"
   ]
  },
  {
   "cell_type": "code",
   "execution_count": 7,
   "id": "da6a199e",
   "metadata": {},
   "outputs": [],
   "source": [
    "df_E162533_original = df_E162533_original[['vel_motor',\n",
    " 'voltaje',\n",
    " 'mensaje_volt',\n",
    " 'horas_comp_trabajadas',\n",
    " 'temp_planta',\n",
    " 'Lamps',\n",
    " 'Lead Curtains',\n",
    " 'Radiation_mrh',\n",
    " 'problemas_rechazo',\n",
    " 'mantenimiento']]"
   ]
  },
  {
   "cell_type": "code",
   "execution_count": 8,
   "id": "efb5a164",
   "metadata": {},
   "outputs": [
    {
     "data": {
      "text/plain": [
       "Text(0.5, 1.0, 'Correlacion')"
      ]
     },
     "execution_count": 8,
     "metadata": {},
     "output_type": "execute_result"
    },
    {
     "data": {
      "image/png": "[encoded data removed]",
      "text/plain": [
       "<Figure size 1500x1500 with 2 Axes>"
      ]
     },
     "metadata": {},
     "output_type": "display_data"
    }
   ],
   "source": [
    "plt.figure(figsize=(15,15))\n",
    "sns.heatmap(df_E162533_original.corr(), annot=True, annot_kws={'size':10}, cmap='Reds' )\n",
    "plt.title(\"Correlacion\")"
   ]
  },
  {
   "cell_type": "markdown",
   "id": "6d3bbcee",
   "metadata": {},
   "source": [
    "# DecisionTreeClassifier"
   ]
  },
  {
   "cell_type": "code",
   "execution_count": 9,
   "id": "a70282de",
   "metadata": {},
   "outputs": [
    {
     "data": {
      "text/plain": [
       "[]"
      ]
     },
     "execution_count": 9,
     "metadata": {},
     "output_type": "execute_result"
    }
   ],
   "source": [
    "list(df_E162533_original.columns[1:-10])"
   ]
  },
  {
   "cell_type": "code",
   "execution_count": 10,
   "id": "5a29ab21",
   "metadata": {},
   "outputs": [],
   "source": [
    "mantenimiento_valores =  df_E162533_original[['vel_motor',\n",
    " 'voltaje',\n",
    " 'mensaje_volt',\n",
    " 'horas_comp_trabajadas',\n",
    " 'temp_planta',\n",
    " 'Lamps',\n",
    " 'Lead Curtains',\n",
    " 'Radiation_mrh',\n",
    " 'problemas_rechazo',\n",
    " 'mantenimiento']].values"
   ]
  },
  {
   "cell_type": "code",
   "execution_count": 11,
   "id": "e0d599c0",
   "metadata": {},
   "outputs": [
    {
     "data": {
      "text/plain": [
       "array([[2.40e+01, 2.22e+02, 0.00e+00, ..., 2.00e-02, 0.00e+00, 1.00e+00],\n",
       "       [2.40e+01, 2.22e+02, 0.00e+00, ..., 2.00e-02, 0.00e+00, 1.00e+00],\n",
       "       [1.80e+01, 2.23e+02, 1.00e+00, ..., 2.00e-02, 0.00e+00, 1.00e+00],\n",
       "       ...,\n",
       "       [2.60e+01, 2.21e+02, 0.00e+00, ..., 2.00e-02, 1.00e+00, 2.00e+00],\n",
       "       [1.90e+01, 2.21e+02, 0.00e+00, ..., 2.00e-02, 0.00e+00, 1.00e+00],\n",
       "       [2.80e+01, 2.33e+02, 1.00e+00, ..., 2.00e-02, 1.00e+00, 2.00e+00]],\n",
       "      dtype=float32)"
      ]
     },
     "execution_count": 11,
     "metadata": {},
     "output_type": "execute_result"
    }
   ],
   "source": [
    "# define dataset\n",
    "# mantenimiento_valores = df_E162533_original[[list(df_E162533_original.columns[1:])]].values\n",
    "mantenimiento_valores_float =  mantenimiento_valores.astype(\"float32\")\n",
    "mantenimiento_valores_float"
   ]
  },
  {
   "cell_type": "code",
   "execution_count": 12,
   "id": "4c52b51c",
   "metadata": {},
   "outputs": [
    {
     "data": {
      "text/plain": [
       "(111, 10)"
      ]
     },
     "execution_count": 12,
     "metadata": {},
     "output_type": "execute_result"
    }
   ],
   "source": [
    "mantenimiento_valores_float.shape"
   ]
  },
  {
   "cell_type": "code",
   "execution_count": 13,
   "id": "9ead6cd9",
   "metadata": {},
   "outputs": [
    {
     "data": {
      "text/plain": [
       "array([[0.53846157, 0.38888836, 0.        , ..., 0.20000002, 0.        ,\n",
       "        0.        ],\n",
       "       [0.53846157, 0.38888836, 0.        , ..., 0.20000002, 0.        ,\n",
       "        0.        ],\n",
       "       [0.07692301, 0.44444466, 1.        , ..., 0.20000002, 0.        ,\n",
       "        0.        ],\n",
       "       ...,\n",
       "       [0.6923076 , 0.33333302, 0.        , ..., 0.20000002, 1.        ,\n",
       "        1.        ],\n",
       "       [0.15384614, 0.33333302, 0.        , ..., 0.20000002, 0.        ,\n",
       "        0.        ],\n",
       "       [0.84615386, 1.        , 1.        , ..., 0.20000002, 1.        ,\n",
       "        1.        ]], dtype=float32)"
      ]
     },
     "execution_count": 13,
     "metadata": {},
     "output_type": "execute_result"
    }
   ],
   "source": [
    "scaler = MinMaxScaler(feature_range=(0,1))\n",
    "mantto_val_scaled = scaler.fit_transform(mantenimiento_valores_float)\n",
    "mantto_val_scaled"
   ]
  },
  {
   "cell_type": "code",
   "execution_count": 14,
   "id": "593d7bf8",
   "metadata": {},
   "outputs": [
    {
     "data": {
      "text/plain": [
       "(111, 10)"
      ]
     },
     "execution_count": 14,
     "metadata": {},
     "output_type": "execute_result"
    }
   ],
   "source": [
    "mantto_val_scaled.shape"
   ]
  },
  {
   "cell_type": "code",
   "execution_count": 15,
   "id": "e3461e6f",
   "metadata": {},
   "outputs": [],
   "source": [
    "X, y = mantto_val_scaled[:,:-1], mantto_val_scaled[:,-1]"
   ]
  },
  {
   "cell_type": "code",
   "execution_count": 16,
   "id": "46f297f2",
   "metadata": {},
   "outputs": [
    {
     "data": {
      "text/plain": [
       "(111, 9)"
      ]
     },
     "execution_count": 16,
     "metadata": {},
     "output_type": "execute_result"
    }
   ],
   "source": [
    "X.shape"
   ]
  },
  {
   "cell_type": "code",
   "execution_count": 17,
   "id": "8fb30d20",
   "metadata": {},
   "outputs": [
    {
     "data": {
      "text/plain": [
       "(111,)"
      ]
     },
     "execution_count": 17,
     "metadata": {},
     "output_type": "execute_result"
    }
   ],
   "source": [
    "y.shape"
   ]
  },
  {
   "cell_type": "code",
   "execution_count": 18,
   "id": "a88a6885",
   "metadata": {},
   "outputs": [
    {
     "data": {
      "text/plain": [
       "dtype('float32')"
      ]
     },
     "execution_count": 18,
     "metadata": {},
     "output_type": "execute_result"
    }
   ],
   "source": [
    "X.dtype"
   ]
  },
  {
   "cell_type": "code",
   "execution_count": 19,
   "id": "c6c4534a",
   "metadata": {},
   "outputs": [],
   "source": [
    "y = y.astype(\"int32\")"
   ]
  },
  {
   "cell_type": "code",
   "execution_count": 20,
   "id": "79b36f02",
   "metadata": {},
   "outputs": [
    {
     "data": {
      "text/plain": [
       "9"
      ]
     },
     "execution_count": 20,
     "metadata": {},
     "output_type": "execute_result"
    }
   ],
   "source": [
    "n_cols = X.shape[1]\n",
    "n_cols"
   ]
  },
  {
   "cell_type": "code",
   "execution_count": 21,
   "id": "58c9c18d",
   "metadata": {},
   "outputs": [],
   "source": [
    "best_subset, best_score = None, 0.0"
   ]
  },
  {
   "cell_type": "code",
   "execution_count": 22,
   "id": "6516877f",
   "metadata": {},
   "outputs": [
    {
     "name": "stdout",
     "output_type": "stream",
     "text": [
      ">f([0, 1, 2, 3, 4, 5, 6, 7, 8]) = 0.829487 \n",
      ">f([0, 1, 2, 3, 4, 5, 6, 7]) = 0.852707 \n",
      ">f([0, 1, 2, 3, 4, 5, 6, 8]) = 0.813105 \n",
      ">f([0, 1, 2, 3, 4, 5, 6]) = 0.823504 \n",
      ">f([0, 1, 2, 3, 4, 5, 7, 8]) = 0.836467 \n",
      ">f([0, 1, 2, 3, 4, 5, 7]) = 0.843732 \n",
      ">f([0, 1, 2, 3, 4, 5, 8]) = 0.820655 \n",
      ">f([0, 1, 2, 3, 4, 5]) = 0.816667 \n",
      ">f([0, 1, 2, 3, 4, 6, 7, 8]) = 0.834615 \n",
      ">f([0, 1, 2, 3, 4, 6, 7]) = 0.858262 \n",
      ">f([0, 1, 2, 3, 4, 6, 8]) = 0.809972 \n",
      ">f([0, 1, 2, 3, 4, 6]) = 0.814672 \n",
      ">f([0, 1, 2, 3, 4, 7, 8]) = 0.822080 \n",
      ">f([0, 1, 2, 3, 4, 7]) = 0.852849 \n",
      ">f([0, 1, 2, 3, 4, 8]) = 0.815670 \n",
      ">f([0, 1, 2, 3, 4]) = 0.829202 \n",
      ">f([0, 1, 2, 3, 5, 6, 7, 8]) = 0.842877 \n",
      ">f([0, 1, 2, 3, 5, 6, 7]) = 0.847009 \n",
      ">f([0, 1, 2, 3, 5, 6, 8]) = 0.812963 \n",
      ">f([0, 1, 2, 3, 5, 6]) = 0.832906 \n",
      ">f([0, 1, 2, 3, 5, 7, 8]) = 0.836040 \n",
      ">f([0, 1, 2, 3, 5, 7]) = 0.852422 \n",
      ">f([0, 1, 2, 3, 5, 8]) = 0.807265 \n",
      ">f([0, 1, 2, 3, 5]) = 0.838462 \n",
      ">f([0, 1, 2, 3, 6, 7, 8]) = 0.830912 \n",
      ">f([0, 1, 2, 3, 6, 7]) = 0.852279 \n",
      ">f([0, 1, 2, 3, 6, 8]) = 0.807407 \n",
      ">f([0, 1, 2, 3, 6]) = 0.845442 \n",
      ">f([0, 1, 2, 3, 7, 8]) = 0.845299 \n",
      ">f([0, 1, 2, 3, 7]) = 0.852279 \n",
      ">f([0, 1, 2, 3, 8]) = 0.811396 \n",
      ">f([0, 1, 2, 3]) = 0.845442 \n",
      ">f([0, 1, 2, 4, 5, 6, 7, 8]) = 0.839886 \n",
      ">f([0, 1, 2, 4, 5, 6, 7]) = 0.852991 \n",
      ">f([0, 1, 2, 4, 5, 6, 8]) = 0.834900 \n",
      ">f([0, 1, 2, 4, 5, 6]) = 0.848860 \n",
      ">f([0, 1, 2, 4, 5, 7, 8]) = 0.850712 \n",
      ">f([0, 1, 2, 4, 5, 7]) = 0.861823 \n",
      ">f([0, 1, 2, 4, 5, 8]) = 0.823789 \n",
      ">f([0, 1, 2, 4, 5]) = 0.842165 \n",
      ">f([0, 1, 2, 4, 6, 7, 8]) = 0.845442 \n",
      ">f([0, 1, 2, 4, 6, 7]) = 0.860114 \n",
      ">f([0, 1, 2, 4, 6, 8]) = 0.836752 \n",
      ">f([0, 1, 2, 4, 6]) = 0.851140 \n",
      ">f([0, 1, 2, 4, 7, 8]) = 0.845442 \n",
      ">f([0, 1, 2, 4, 7]) = 0.860256 \n",
      ">f([0, 1, 2, 4, 8]) = 0.829487 \n",
      ">f([0, 1, 2, 4]) = 0.845869 \n",
      ">f([0, 1, 2, 5, 6, 7, 8]) = 0.854274 \n",
      ">f([0, 1, 2, 5, 6, 7]) = 0.868376 \n",
      ">f([0, 1, 2, 5, 6, 8]) = 0.845299 \n",
      ">f([0, 1, 2, 5, 6]) = 0.877920 \n",
      ">f([0, 1, 2, 5, 7, 8]) = 0.857835 \n",
      ">f([0, 1, 2, 5, 7]) = 0.879630 \n",
      ">f([0, 1, 2, 5, 8]) = 0.846866 \n",
      ">f([0, 1, 2, 5]) = 0.875926 \n",
      ">f([0, 1, 2, 6, 7, 8]) = 0.857835 \n",
      ">f([0, 1, 2, 6, 7]) = 0.877635 \n",
      ">f([0, 1, 2, 6, 8]) = 0.850285 \n",
      ">f([0, 1, 2, 6]) = 0.879630 \n",
      ">f([0, 1, 2, 7, 8]) = 0.861254 \n",
      ">f([0, 1, 2, 7]) = 0.881339 \n",
      ">f([0, 1, 2, 8]) = 0.845299 \n",
      ">f([0, 1, 2]) = 0.876211 \n",
      ">f([0, 1, 3, 4, 5, 6, 7, 8]) = 0.784330 \n",
      ">f([0, 1, 3, 4, 5, 6, 7]) = 0.787892 \n",
      ">f([0, 1, 3, 4, 5, 6, 8]) = 0.756980 \n",
      ">f([0, 1, 3, 4, 5, 6]) = 0.751709 \n",
      ">f([0, 1, 3, 4, 5, 7, 8]) = 0.779202 \n",
      ">f([0, 1, 3, 4, 5, 7]) = 0.790171 \n",
      ">f([0, 1, 3, 4, 5, 8]) = 0.750997 \n",
      ">f([0, 1, 3, 4, 5]) = 0.770940 \n",
      ">f([0, 1, 3, 4, 6, 7, 8]) = 0.781197 \n",
      ">f([0, 1, 3, 4, 6, 7]) = 0.780912 \n",
      ">f([0, 1, 3, 4, 6, 8]) = 0.754558 \n",
      ">f([0, 1, 3, 4, 6]) = 0.756410 \n",
      ">f([0, 1, 3, 4, 7, 8]) = 0.784473 \n",
      ">f([0, 1, 3, 4, 7]) = 0.782906 \n",
      ">f([0, 1, 3, 4, 8]) = 0.750997 \n",
      ">f([0, 1, 3, 4]) = 0.756695 \n",
      ">f([0, 1, 3, 5, 6, 7, 8]) = 0.809829 \n",
      ">f([0, 1, 3, 5, 6, 7]) = 0.786325 \n",
      ">f([0, 1, 3, 5, 6, 8]) = 0.757407 \n",
      ">f([0, 1, 3, 5, 6]) = 0.751994 \n",
      ">f([0, 1, 3, 5, 7, 8]) = 0.800712 \n",
      ">f([0, 1, 3, 5, 7]) = 0.789601 \n",
      ">f([0, 1, 3, 5, 8]) = 0.754986 \n",
      ">f([0, 1, 3, 5]) = 0.750142 \n",
      ">f([0, 1, 3, 6, 7, 8]) = 0.815242 \n",
      ">f([0, 1, 3, 6, 7]) = 0.782479 \n",
      ">f([0, 1, 3, 6, 8]) = 0.755413 \n",
      ">f([0, 1, 3, 6]) = 0.753846 \n",
      ">f([0, 1, 3, 7, 8]) = 0.798718 \n",
      ">f([0, 1, 3, 7]) = 0.778775 \n",
      ">f([0, 1, 3, 8]) = 0.762393 \n",
      ">f([0, 1, 3]) = 0.757550 \n",
      ">f([0, 1, 4, 5, 6, 7, 8]) = 0.806553 \n",
      ">f([0, 1, 4, 5, 6, 7]) = 0.812108 \n",
      ">f([0, 1, 4, 5, 6, 8]) = 0.778775 \n",
      ">f([0, 1, 4, 5, 6]) = 0.789174 \n",
      ">f([0, 1, 4, 5, 7, 8]) = 0.806695 \n",
      ">f([0, 1, 4, 5, 7]) = 0.817379 \n",
      ">f([0, 1, 4, 5, 8]) = 0.764530 \n",
      ">f([0, 1, 4, 5]) = 0.785897 \n",
      ">f([0, 1, 4, 6, 7, 8]) = 0.794302 \n",
      ">f([0, 1, 4, 6, 7]) = 0.817379 \n",
      ">f([0, 1, 4, 6, 8]) = 0.769516 \n",
      ">f([0, 1, 4, 6]) = 0.791168 \n",
      ">f([0, 1, 4, 7, 8]) = 0.795442 \n",
      ">f([0, 1, 4, 7]) = 0.821083 \n",
      ">f([0, 1, 4, 8]) = 0.774929 \n",
      ">f([0, 1, 4]) = 0.796724 \n",
      ">f([0, 1, 5, 6, 7, 8]) = 0.813533 \n",
      ">f([0, 1, 5, 6, 7]) = 0.823362 \n",
      ">f([0, 1, 5, 6, 8]) = 0.795869 \n",
      ">f([0, 1, 5, 6]) = 0.795726 \n",
      ">f([0, 1, 5, 7, 8]) = 0.810256 \n",
      ">f([0, 1, 5, 7]) = 0.828632 \n",
      ">f([0, 1, 5, 8]) = 0.797578 \n",
      ">f([0, 1, 5]) = 0.797578 \n",
      ">f([0, 1, 6, 7, 8]) = 0.813960 \n",
      ">f([0, 1, 6, 7]) = 0.826353 \n",
      ">f([0, 1, 6, 8]) = 0.794160 \n",
      ">f([0, 1, 6]) = 0.799430 \n",
      ">f([0, 1, 7, 8]) = 0.813675 \n",
      ">f([0, 1, 7]) = 0.828490 \n",
      ">f([0, 1, 8]) = 0.799573 \n",
      ">f([0, 1]) = 0.802991 \n",
      ">f([0, 2, 3, 4, 5, 6, 7, 8]) = 0.821795 \n",
      ">f([0, 2, 3, 4, 5, 6, 7]) = 0.832764 \n",
      ">f([0, 2, 3, 4, 5, 6, 8]) = 0.803846 \n",
      ">f([0, 2, 3, 4, 5, 6]) = 0.821652 \n",
      ">f([0, 2, 3, 4, 5, 7, 8]) = 0.814530 \n",
      ">f([0, 2, 3, 4, 5, 7]) = 0.838034 \n",
      ">f([0, 2, 3, 4, 5, 8]) = 0.798433 \n",
      ">f([0, 2, 3, 4, 5]) = 0.819943 \n",
      ">f([0, 2, 3, 4, 6, 7, 8]) = 0.818234 \n",
      ">f([0, 2, 3, 4, 6, 7]) = 0.836182 \n",
      ">f([0, 2, 3, 4, 6, 8]) = 0.802279 \n",
      ">f([0, 2, 3, 4, 6]) = 0.825356 \n",
      ">f([0, 2, 3, 4, 7, 8]) = 0.816382 \n",
      ">f([0, 2, 3, 4, 7]) = 0.832621 \n",
      ">f([0, 2, 3, 4, 8]) = 0.803704 \n",
      ">f([0, 2, 3, 4]) = 0.825356 \n",
      ">f([0, 2, 3, 5, 6, 7, 8]) = 0.853989 \n",
      ">f([0, 2, 3, 5, 6, 7]) = 0.888177 \n",
      ">f([0, 2, 3, 5, 6, 8]) = 0.857692 \n",
      ">f([0, 2, 3, 5, 6]) = 0.890171 \n",
      ">f([0, 2, 3, 5, 7, 8]) = 0.855983 \n",
      ">f([0, 2, 3, 5, 7]) = 0.886467 \n",
      ">f([0, 2, 3, 5, 8]) = 0.855698 \n",
      ">f([0, 2, 3, 5]) = 0.890171 \n",
      ">f([0, 2, 3, 6, 7, 8]) = 0.854131 \n",
      ">f([0, 2, 3, 6, 7]) = 0.882906 \n",
      ">f([0, 2, 3, 6, 8]) = 0.853989 \n",
      ">f([0, 2, 3, 6]) = 0.886467 \n",
      ">f([0, 2, 3, 7, 8]) = 0.852279 \n",
      ">f([0, 2, 3, 7]) = 0.886610 \n",
      ">f([0, 2, 3, 8]) = 0.855840 \n",
      ">f([0, 2, 3]) = 0.884758 \n",
      ">f([0, 2, 4, 5, 6, 7, 8]) = 0.856125 \n",
      ">f([0, 2, 4, 5, 6, 7]) = 0.868803 \n",
      ">f([0, 2, 4, 5, 6, 8]) = 0.843590 \n",
      ">f([0, 2, 4, 5, 6]) = 0.872365 \n",
      ">f([0, 2, 4, 5, 7, 8]) = 0.854416 \n",
      ">f([0, 2, 4, 5, 7]) = 0.874217 \n",
      ">f([0, 2, 4, 5, 8]) = 0.847293 \n",
      ">f([0, 2, 4, 5]) = 0.874217 \n",
      ">f([0, 2, 4, 6, 7, 8]) = 0.856125 \n",
      ">f([0, 2, 4, 6, 7]) = 0.872507 \n",
      ">f([0, 2, 4, 6, 8]) = 0.847293 \n",
      ">f([0, 2, 4, 6]) = 0.874217 \n",
      ">f([0, 2, 4, 7, 8]) = 0.855983 \n",
      ">f([0, 2, 4, 7]) = 0.874217 \n",
      ">f([0, 2, 4, 8]) = 0.845442 \n",
      ">f([0, 2, 4]) = 0.872507 \n",
      ">f([0, 2, 5, 6, 7, 8]) = 0.876923 \n",
      ">f([0, 2, 5, 6, 7]) = 0.899003 \n",
      ">f([0, 2, 5, 6, 8]) = 0.880484 \n",
      ">f([0, 2, 5, 6]) = 0.906125 \n",
      ">f([0, 2, 5, 7, 8]) = 0.875071 \n",
      ">f([0, 2, 5, 7]) = 0.900712 \n",
      ">f([0, 2, 5, 8]) = 0.880484 \n",
      ">f([0, 2, 5]) = 0.906125 \n",
      ">f([0, 2, 6, 7, 8]) = 0.876923 \n",
      ">f([0, 2, 6, 7]) = 0.904416 \n",
      ">f([0, 2, 6, 8]) = 0.880484 \n",
      ">f([0, 2, 6]) = 0.906125 \n",
      ">f([0, 2, 7, 8]) = 0.875071 \n",
      ">f([0, 2, 7]) = 0.902707 \n",
      ">f([0, 2, 8]) = 0.880484 \n",
      ">f([0, 2]) = 0.906125 \n",
      ">f([0, 3, 4, 5, 6, 7, 8]) = 0.722222 \n",
      ">f([0, 3, 4, 5, 6, 7]) = 0.754558 \n",
      ">f([0, 3, 4, 5, 6, 8]) = 0.720513 \n",
      ">f([0, 3, 4, 5, 6]) = 0.736040 \n",
      ">f([0, 3, 4, 5, 7, 8]) = 0.725926 \n",
      ">f([0, 3, 4, 5, 7]) = 0.752991 \n",
      ">f([0, 3, 4, 5, 8]) = 0.722365 \n",
      ">f([0, 3, 4, 5]) = 0.736182 \n",
      ">f([0, 3, 4, 6, 7, 8]) = 0.723789 \n",
      ">f([0, 3, 4, 6, 7]) = 0.750855 \n",
      ">f([0, 3, 4, 6, 8]) = 0.729630 \n",
      ">f([0, 3, 4, 6]) = 0.737892 \n",
      ">f([0, 3, 4, 7, 8]) = 0.718661 \n",
      ">f([0, 3, 4, 7]) = 0.749288 \n",
      ">f([0, 3, 4, 8]) = 0.729487 \n",
      ">f([0, 3, 4]) = 0.730627 \n",
      ">f([0, 3, 5, 6, 7, 8]) = 0.799715 \n",
      ">f([0, 3, 5, 6, 7]) = 0.812108 \n",
      ">f([0, 3, 5, 6, 8]) = 0.820940 \n",
      ">f([0, 3, 5, 6]) = 0.790456 \n",
      ">f([0, 3, 5, 7, 8]) = 0.794444 \n",
      ">f([0, 3, 5, 7]) = 0.804986 \n",
      ">f([0, 3, 5, 8]) = 0.815385 \n",
      ">f([0, 3, 5]) = 0.788889 \n",
      ">f([0, 3, 6, 7, 8]) = 0.790883 \n",
      ">f([0, 3, 6, 7]) = 0.808547 \n",
      ">f([0, 3, 6, 8]) = 0.817236 \n",
      ">f([0, 3, 6]) = 0.788746 \n",
      ">f([0, 3, 7, 8]) = 0.794302 \n",
      ">f([0, 3, 7]) = 0.813960 \n",
      ">f([0, 3, 8]) = 0.819088 \n",
      ">f([0, 3]) = 0.790456 \n",
      ">f([0, 4, 5, 6, 7, 8]) = 0.784188 \n",
      ">f([0, 4, 5, 6, 7]) = 0.794587 \n",
      ">f([0, 4, 5, 6, 8]) = 0.789886 \n",
      ">f([0, 4, 5, 6]) = 0.772507 \n",
      ">f([0, 4, 5, 7, 8]) = 0.778348 \n",
      ">f([0, 4, 5, 7]) = 0.803704 \n",
      ">f([0, 4, 5, 8]) = 0.780627 \n",
      ">f([0, 4, 5]) = 0.772507 \n",
      ">f([0, 4, 6, 7, 8]) = 0.780342 \n",
      ">f([0, 4, 6, 7]) = 0.798291 \n",
      ">f([0, 4, 6, 8]) = 0.784330 \n",
      ">f([0, 4, 6]) = 0.772507 \n",
      ">f([0, 4, 7, 8]) = 0.774644 \n",
      ">f([0, 4, 7]) = 0.800285 \n",
      ">f([0, 4, 8]) = 0.788034 \n",
      ">f([0, 4]) = 0.772507 \n",
      ">f([0, 5, 6, 7, 8]) = 0.830199 \n",
      ">f([0, 5, 6, 7]) = 0.830484 \n",
      ">f([0, 5, 6, 8]) = 0.815527 \n",
      ">f([0, 5, 6]) = 0.839316 \n",
      ">f([0, 5, 7, 8]) = 0.830199 \n",
      ">f([0, 5, 7]) = 0.828632 \n",
      ">f([0, 5, 8]) = 0.815527 \n",
      ">f([0, 5]) = 0.839316 \n",
      ">f([0, 6, 7, 8]) = 0.830199 \n",
      ">f([0, 6, 7]) = 0.830484 \n",
      ">f([0, 6, 8]) = 0.815527 \n",
      ">f([0, 6]) = 0.839316 \n",
      ">f([0, 7, 8]) = 0.830199 \n",
      ">f([0, 7]) = 0.830484 \n",
      ">f([0, 8]) = 0.815527 \n",
      ">f([0]) = 0.839316 \n",
      ">f([1, 2, 3, 4, 5, 6, 7, 8]) = 0.820940 \n",
      ">f([1, 2, 3, 4, 5, 6, 7]) = 0.828348 \n"
     ]
    },
    {
     "name": "stdout",
     "output_type": "stream",
     "text": [
      ">f([1, 2, 3, 4, 5, 6, 8]) = 0.808974 \n",
      ">f([1, 2, 3, 4, 5, 6]) = 0.819801 \n",
      ">f([1, 2, 3, 4, 5, 7, 8]) = 0.824359 \n",
      ">f([1, 2, 3, 4, 5, 7]) = 0.815954 \n",
      ">f([1, 2, 3, 4, 5, 8]) = 0.807550 \n",
      ">f([1, 2, 3, 4, 5]) = 0.819658 \n",
      ">f([1, 2, 3, 4, 6, 7, 8]) = 0.815954 \n",
      ">f([1, 2, 3, 4, 6, 7]) = 0.810256 \n",
      ">f([1, 2, 3, 4, 6, 8]) = 0.821510 \n",
      ">f([1, 2, 3, 4, 6]) = 0.814245 \n",
      ">f([1, 2, 3, 4, 7, 8]) = 0.815954 \n",
      ">f([1, 2, 3, 4, 7]) = 0.824929 \n",
      ">f([1, 2, 3, 4, 8]) = 0.814387 \n",
      ">f([1, 2, 3, 4]) = 0.825214 \n",
      ">f([1, 2, 3, 5, 6, 7, 8]) = 0.822365 \n",
      ">f([1, 2, 3, 5, 6, 7]) = 0.855271 \n",
      ">f([1, 2, 3, 5, 6, 8]) = 0.842735 \n",
      ">f([1, 2, 3, 5, 6]) = 0.866239 \n",
      ">f([1, 2, 3, 5, 7, 8]) = 0.818803 \n",
      ">f([1, 2, 3, 5, 7]) = 0.851852 \n",
      ">f([1, 2, 3, 5, 8]) = 0.844587 \n",
      ">f([1, 2, 3, 5]) = 0.862536 \n",
      ">f([1, 2, 3, 6, 7, 8]) = 0.822365 \n",
      ">f([1, 2, 3, 6, 7]) = 0.857265 \n",
      ">f([1, 2, 3, 6, 8]) = 0.840883 \n",
      ">f([1, 2, 3, 6]) = 0.866382 \n",
      ">f([1, 2, 3, 7, 8]) = 0.829772 \n",
      ">f([1, 2, 3, 7]) = 0.851567 \n",
      ">f([1, 2, 3, 8]) = 0.837179 \n",
      ">f([1, 2, 3]) = 0.862678 \n",
      ">f([1, 2, 4, 5, 6, 7, 8]) = 0.828490 \n",
      ">f([1, 2, 4, 5, 6, 7]) = 0.852279 \n",
      ">f([1, 2, 4, 5, 6, 8]) = 0.832621 \n",
      ">f([1, 2, 4, 5, 6]) = 0.848718 \n",
      ">f([1, 2, 4, 5, 7, 8]) = 0.826781 \n",
      ">f([1, 2, 4, 5, 7]) = 0.843447 \n",
      ">f([1, 2, 4, 5, 8]) = 0.836325 \n",
      ">f([1, 2, 4, 5]) = 0.854131 \n",
      ">f([1, 2, 4, 6, 7, 8]) = 0.824929 \n",
      ">f([1, 2, 4, 6, 7]) = 0.845299 \n",
      ">f([1, 2, 4, 6, 8]) = 0.834188 \n",
      ">f([1, 2, 4, 6]) = 0.841595 \n",
      ">f([1, 2, 4, 7, 8]) = 0.833903 \n",
      ">f([1, 2, 4, 7]) = 0.848860 \n",
      ">f([1, 2, 4, 8]) = 0.832194 \n",
      ">f([1, 2, 4]) = 0.850427 \n",
      ">f([1, 2, 5, 6, 7, 8]) = 0.838889 \n",
      ">f([1, 2, 5, 6, 7]) = 0.844444 \n",
      ">f([1, 2, 5, 6, 8]) = 0.844587 \n",
      ">f([1, 2, 5, 6]) = 0.855413 \n",
      ">f([1, 2, 5, 7, 8]) = 0.837179 \n",
      ">f([1, 2, 5, 7]) = 0.844444 \n",
      ">f([1, 2, 5, 8]) = 0.848148 \n",
      ">f([1, 2, 5]) = 0.855413 \n",
      ">f([1, 2, 6, 7, 8]) = 0.838889 \n",
      ">f([1, 2, 6, 7]) = 0.844444 \n",
      ">f([1, 2, 6, 8]) = 0.844587 \n",
      ">f([1, 2, 6]) = 0.855413 \n",
      ">f([1, 2, 7, 8]) = 0.837179 \n",
      ">f([1, 2, 7]) = 0.842735 \n",
      ">f([1, 2, 8]) = 0.846439 \n",
      ">f([1, 2]) = 0.855413 \n",
      ">f([1, 3, 4, 5, 6, 7, 8]) = 0.810541 \n",
      ">f([1, 3, 4, 5, 6, 7]) = 0.821510 \n",
      ">f([1, 3, 4, 5, 6, 8]) = 0.762108 \n",
      ">f([1, 3, 4, 5, 6]) = 0.818234 \n",
      ">f([1, 3, 4, 5, 7, 8]) = 0.812963 \n",
      ">f([1, 3, 4, 5, 7]) = 0.823219 \n",
      ">f([1, 3, 4, 5, 8]) = 0.761823 \n",
      ">f([1, 3, 4, 5]) = 0.816097 \n",
      ">f([1, 3, 4, 6, 7, 8]) = 0.807265 \n",
      ">f([1, 3, 4, 6, 7]) = 0.821652 \n",
      ">f([1, 3, 4, 6, 8]) = 0.765954 \n",
      ">f([1, 3, 4, 6]) = 0.800427 \n",
      ">f([1, 3, 4, 7, 8]) = 0.803704 \n",
      ">f([1, 3, 4, 7]) = 0.827208 \n",
      ">f([1, 3, 4, 8]) = 0.765954 \n",
      ">f([1, 3, 4]) = 0.801709 \n",
      ">f([1, 3, 5, 6, 7, 8]) = 0.830342 \n",
      ">f([1, 3, 5, 6, 7]) = 0.823504 \n",
      ">f([1, 3, 5, 6, 8]) = 0.810399 \n",
      ">f([1, 3, 5, 6]) = 0.837607 \n",
      ">f([1, 3, 5, 7, 8]) = 0.825071 \n",
      ">f([1, 3, 5, 7]) = 0.827350 \n",
      ">f([1, 3, 5, 8]) = 0.806838 \n",
      ">f([1, 3, 5]) = 0.832051 \n",
      ">f([1, 3, 6, 7, 8]) = 0.838034 \n",
      ">f([1, 3, 6, 7]) = 0.821795 \n",
      ">f([1, 3, 6, 8]) = 0.812251 \n",
      ">f([1, 3, 6]) = 0.833903 \n",
      ">f([1, 3, 7, 8]) = 0.836182 \n",
      ">f([1, 3, 7]) = 0.819943 \n",
      ">f([1, 3, 8]) = 0.819516 \n",
      ">f([1, 3]) = 0.832051 \n",
      ">f([1, 4, 5, 6, 7, 8]) = 0.845584 \n",
      ">f([1, 4, 5, 6, 7]) = 0.874644 \n",
      ">f([1, 4, 5, 6, 8]) = 0.817094 \n",
      ">f([1, 4, 5, 6]) = 0.861538 \n",
      ">f([1, 4, 5, 7, 8]) = 0.845726 \n",
      ">f([1, 4, 5, 7]) = 0.874786 \n",
      ">f([1, 4, 5, 8]) = 0.814957 \n",
      ">f([1, 4, 5]) = 0.859829 \n",
      ">f([1, 4, 6, 7, 8]) = 0.847436 \n",
      ">f([1, 4, 6, 7]) = 0.871083 \n",
      ">f([1, 4, 6, 8]) = 0.816809 \n",
      ">f([1, 4, 6]) = 0.858120 \n",
      ">f([1, 4, 7, 8]) = 0.847578 \n",
      ">f([1, 4, 7]) = 0.874644 \n",
      ">f([1, 4, 8]) = 0.822080 \n",
      ">f([1, 4]) = 0.861538 \n",
      ">f([1, 5, 6, 7, 8]) = 0.859687 \n",
      ">f([1, 5, 6, 7]) = 0.821795 \n",
      ">f([1, 5, 6, 8]) = 0.859402 \n",
      ">f([1, 5, 6]) = 0.817806 \n",
      ">f([1, 5, 7, 8]) = 0.859687 \n",
      ">f([1, 5, 7]) = 0.821795 \n",
      ">f([1, 5, 8]) = 0.859402 \n",
      ">f([1, 5]) = 0.817806 \n",
      ">f([1, 6, 7, 8]) = 0.857835 \n",
      ">f([1, 6, 7]) = 0.821795 \n",
      ">f([1, 6, 8]) = 0.859402 \n",
      ">f([1, 6]) = 0.817806 \n",
      ">f([1, 7, 8]) = 0.861538 \n",
      ">f([1, 7]) = 0.816382 \n",
      ">f([1, 8]) = 0.859402 \n",
      ">f([1]) = 0.817806 \n",
      ">f([2, 3, 4, 5, 6, 7, 8]) = 0.832051 \n",
      ">f([2, 3, 4, 5, 6, 7]) = 0.839316 \n",
      ">f([2, 3, 4, 5, 6, 8]) = 0.834046 \n",
      ">f([2, 3, 4, 5, 6]) = 0.868376 \n",
      ">f([2, 3, 4, 5, 7, 8]) = 0.826781 \n",
      ">f([2, 3, 4, 5, 7]) = 0.842877 \n",
      ">f([2, 3, 4, 5, 8]) = 0.834046 \n",
      ">f([2, 3, 4, 5]) = 0.868376 \n",
      ">f([2, 3, 4, 6, 7, 8]) = 0.832051 \n",
      ">f([2, 3, 4, 6, 7]) = 0.841168 \n",
      ">f([2, 3, 4, 6, 8]) = 0.837607 \n",
      ">f([2, 3, 4, 6]) = 0.868376 \n",
      ">f([2, 3, 4, 7, 8]) = 0.830484 \n",
      ">f([2, 3, 4, 7]) = 0.839316 \n",
      ">f([2, 3, 4, 8]) = 0.834046 \n",
      ">f([2, 3, 4]) = 0.868376 \n",
      ">f([2, 3, 5, 6, 7, 8]) = 0.893590 \n",
      ">f([2, 3, 5, 6, 7]) = 0.875356 \n",
      ">f([2, 3, 5, 6, 8]) = 0.879487 \n",
      ">f([2, 3, 5, 6]) = 0.894017 \n",
      ">f([2, 3, 5, 7, 8]) = 0.895442 \n",
      ">f([2, 3, 5, 7]) = 0.875356 \n",
      ">f([2, 3, 5, 8]) = 0.879487 \n",
      ">f([2, 3, 5]) = 0.894017 \n",
      ">f([2, 3, 6, 7, 8]) = 0.893590 \n",
      ">f([2, 3, 6, 7]) = 0.875356 \n",
      ">f([2, 3, 6, 8]) = 0.879487 \n",
      ">f([2, 3, 6]) = 0.894017 \n",
      ">f([2, 3, 7, 8]) = 0.895442 \n",
      ">f([2, 3, 7]) = 0.875356 \n",
      ">f([2, 3, 8]) = 0.879487 \n",
      ">f([2, 3]) = 0.894017 \n",
      ">f([2, 4, 5, 6, 7, 8]) = 0.864815 \n",
      ">f([2, 4, 5, 6, 7]) = 0.862963 \n",
      ">f([2, 4, 5, 6, 8]) = 0.877350 \n",
      ">f([2, 4, 5, 6]) = 0.890028 \n",
      ">f([2, 4, 5, 7, 8]) = 0.862963 \n",
      ">f([2, 4, 5, 7]) = 0.864815 \n",
      ">f([2, 4, 5, 8]) = 0.877350 \n",
      ">f([2, 4, 5]) = 0.890028 \n",
      ">f([2, 4, 6, 7, 8]) = 0.864815 \n",
      ">f([2, 4, 6, 7]) = 0.866524 \n",
      ">f([2, 4, 6, 8]) = 0.877350 \n",
      ">f([2, 4, 6]) = 0.890028 \n",
      ">f([2, 4, 7, 8]) = 0.866524 \n",
      ">f([2, 4, 7]) = 0.862821 \n",
      ">f([2, 4, 8]) = 0.877350 \n",
      ">f([2, 4]) = 0.890028 \n",
      ">f([2, 5, 6, 7, 8]) = 0.899145 \n",
      ">f([2, 5, 6, 7]) = 0.900855 \n",
      ">f([2, 5, 6, 8]) = 0.886325 \n",
      ">f([2, 5, 6]) = 0.900855 \n",
      ">f([2, 5, 7, 8]) = 0.899145 \n",
      ">f([2, 5, 7]) = 0.900855 \n",
      ">f([2, 5, 8]) = 0.886325 \n",
      ">f([2, 5]) = 0.900855 \n",
      ">f([2, 6, 7, 8]) = 0.899145 \n",
      ">f([2, 6, 7]) = 0.900855 \n",
      ">f([2, 6, 8]) = 0.886325 \n",
      ">f([2, 6]) = 0.900855 \n",
      ">f([2, 7, 8]) = 0.899145 \n",
      ">f([2, 7]) = 0.900855 \n",
      ">f([2, 8]) = 0.886325 \n",
      ">f([2]) = 0.900855 \n",
      ">f([3, 4, 5, 6, 7, 8]) = 0.767236 \n",
      ">f([3, 4, 5, 6, 7]) = 0.821510 \n",
      ">f([3, 4, 5, 6, 8]) = 0.789031 \n",
      ">f([3, 4, 5, 6]) = 0.832194 \n",
      ">f([3, 4, 5, 7, 8]) = 0.768946 \n",
      ">f([3, 4, 5, 7]) = 0.828775 \n",
      ">f([3, 4, 5, 8]) = 0.789031 \n",
      ">f([3, 4, 5]) = 0.830342 \n",
      ">f([3, 4, 6, 7, 8]) = 0.770798 \n",
      ">f([3, 4, 6, 7]) = 0.825071 \n",
      ">f([3, 4, 6, 8]) = 0.790883 \n",
      ">f([3, 4, 6]) = 0.830342 \n",
      ">f([3, 4, 7, 8]) = 0.768946 \n",
      ">f([3, 4, 7]) = 0.832479 \n",
      ">f([3, 4, 8]) = 0.789031 \n",
      ">f([3, 4]) = 0.830342 \n",
      ">f([3, 5, 6, 7, 8]) = 0.834046 \n",
      ">f([3, 5, 6, 7]) = 0.837892 \n",
      ">f([3, 5, 6, 8]) = 0.837607 \n",
      ">f([3, 5, 6]) = 0.837607 \n",
      ">f([3, 5, 7, 8]) = 0.834046 \n",
      ">f([3, 5, 7]) = 0.836040 \n",
      ">f([3, 5, 8]) = 0.837607 \n",
      ">f([3, 5]) = 0.837607 \n",
      ">f([3, 6, 7, 8]) = 0.834046 \n",
      ">f([3, 6, 7]) = 0.837892 \n",
      ">f([3, 6, 8]) = 0.837607 \n",
      ">f([3, 6]) = 0.837607 \n",
      ">f([3, 7, 8]) = 0.834046 \n",
      ">f([3, 7]) = 0.837892 \n",
      ">f([3, 8]) = 0.837607 \n",
      ">f([3]) = 0.837607 \n",
      ">f([4, 5, 6, 7, 8]) = 0.816097 \n",
      ">f([4, 5, 6, 7]) = 0.846581 \n",
      ">f([4, 5, 6, 8]) = 0.803989 \n",
      ">f([4, 5, 6]) = 0.846581 \n",
      ">f([4, 5, 7, 8]) = 0.817949 \n",
      ">f([4, 5, 7]) = 0.850285 \n",
      ">f([4, 5, 8]) = 0.803989 \n",
      ">f([4, 5]) = 0.846581 \n",
      ">f([4, 6, 7, 8]) = 0.817949 \n",
      ">f([4, 6, 7]) = 0.843020 \n",
      ">f([4, 6, 8]) = 0.803989 \n",
      ">f([4, 6]) = 0.846581 \n",
      ">f([4, 7, 8]) = 0.816097 \n",
      ">f([4, 7]) = 0.848575 \n",
      ">f([4, 8]) = 0.803989 \n",
      ">f([4]) = 0.846581 \n",
      ">f([5, 6, 7, 8]) = 0.863105 \n",
      ">f([5, 6, 7]) = 0.852279 \n",
      ">f([5, 6, 8]) = 0.837607 \n",
      ">f([5, 6]) = 0.837607 \n",
      ">f([5, 7, 8]) = 0.863105 \n",
      ">f([5, 7]) = 0.852279 \n",
      ">f([5, 8]) = 0.837607 \n",
      ">f([5]) = 0.837607 \n",
      ">f([6, 7, 8]) = 0.863105 \n",
      ">f([6, 7]) = 0.852279 \n",
      ">f([6, 8]) = 0.837607 \n",
      ">f([6]) = 0.837607 \n",
      ">f([7, 8]) = 0.863105 \n",
      ">f([7]) = 0.852279 \n",
      ">f([8]) = 0.837607 \n",
      "Done!\n",
      "f([0, 2]) = 0.906125\n"
     ]
    }
   ],
   "source": [
    "for subset in product([True, False], repeat=n_cols):\n",
    "    # convertimos en índices de columnas\n",
    "    ix = [i for i, x in enumerate(subset) if x]\n",
    "    \n",
    "    # checamos la columna actual\n",
    "    if len(ix) == 0:\n",
    "        continue\n",
    "    \n",
    "    # seleccionamos las columnas\n",
    "    X_new = X[:, ix]\n",
    "    \n",
    "    # definimos el modelo\n",
    "    model = DecisionTreeClassifier()\n",
    "    \n",
    "    # definimos el proceso de evaluación\n",
    "    cv = RepeatedStratifiedKFold(n_splits=9, n_repeats=5, random_state=1)\n",
    "    \n",
    "    # evaluamos el modelo\n",
    "    scores = cross_val_score(model, X_new, y, scoring=\"accuracy\", cv=cv, n_jobs=-1)\n",
    "    \n",
    "    # checamos los valores\n",
    "    result = mean(scores)\n",
    "    \n",
    "    # report progress\n",
    "    print('>f(%s) = %f ' % (ix, result))\n",
    "    # check if it is better than the best so far\n",
    "    if best_score is None or result >= best_score:\n",
    "        # better result\n",
    "        best_subset, best_score = ix, result\n",
    "# report best\n",
    "print('Done!')\n",
    "print('f(%s) = %f' % (best_subset, best_score))"
   ]
  },
  {
   "cell_type": "code",
   "execution_count": 23,
   "id": "b219a56d",
   "metadata": {},
   "outputs": [
    {
     "data": {
      "text/plain": [
       "Index(['vel_motor', 'voltaje', 'mensaje_volt', 'horas_comp_trabajadas',\n",
       "       'temp_planta', 'Lamps', 'Lead Curtains', 'Radiation_mrh',\n",
       "       'problemas_rechazo', 'mantenimiento'],\n",
       "      dtype='object')"
      ]
     },
     "execution_count": 23,
     "metadata": {},
     "output_type": "execute_result"
    }
   ],
   "source": [
    "df_E162533_original.columns"
   ]
  },
  {
   "cell_type": "code",
   "execution_count": 24,
   "id": "ad09cf2c",
   "metadata": {},
   "outputs": [
    {
     "data": {
      "text/plain": [
       "Index(['vel_motor', 'mensaje_volt'], dtype='object')"
      ]
     },
     "execution_count": 24,
     "metadata": {},
     "output_type": "execute_result"
    }
   ],
   "source": [
    "df_E162533_original.columns[best_subset]"
   ]
  },
  {
   "cell_type": "code",
   "execution_count": 25,
   "id": "ac3e7681",
   "metadata": {},
   "outputs": [],
   "source": [
    "fs_dtc = list(df_E162533_original.columns[best_subset])"
   ]
  },
  {
   "cell_type": "code",
   "execution_count": 26,
   "id": "b20ad942",
   "metadata": {},
   "outputs": [
    {
     "data": {
      "text/plain": [
       "['vel_motor', 'mensaje_volt']"
      ]
     },
     "execution_count": 26,
     "metadata": {},
     "output_type": "execute_result"
    }
   ],
   "source": [
    "fs_dtc"
   ]
  },
  {
   "cell_type": "raw",
   "id": "495f72ab",
   "metadata": {},
   "source": [
    "list(df_mantenimiento.columns[best_subset])"
   ]
  },
  {
   "cell_type": "markdown",
   "id": "4157e6fb",
   "metadata": {},
   "source": [
    "# RandomForestRegressor"
   ]
  },
  {
   "cell_type": "code",
   "execution_count": 27,
   "id": "4b152f55",
   "metadata": {},
   "outputs": [],
   "source": [
    "X_train, X_test, y_train, y_test = train_test_split(X,y, test_size=0.4, random_state=42)"
   ]
  },
  {
   "cell_type": "code",
   "execution_count": 28,
   "id": "25ba749e",
   "metadata": {},
   "outputs": [
    {
     "data": {
      "text/plain": [
       "(66, 9)"
      ]
     },
     "execution_count": 28,
     "metadata": {},
     "output_type": "execute_result"
    }
   ],
   "source": [
    "X_train.shape"
   ]
  },
  {
   "cell_type": "code",
   "execution_count": 29,
   "id": "271db483",
   "metadata": {},
   "outputs": [
    {
     "data": {
      "text/plain": [
       "(66,)"
      ]
     },
     "execution_count": 29,
     "metadata": {},
     "output_type": "execute_result"
    }
   ],
   "source": [
    "y_train.shape"
   ]
  },
  {
   "cell_type": "code",
   "execution_count": 30,
   "id": "c21f5af9",
   "metadata": {},
   "outputs": [
    {
     "data": {
      "text/plain": [
       "(45, 9)"
      ]
     },
     "execution_count": 30,
     "metadata": {},
     "output_type": "execute_result"
    }
   ],
   "source": [
    "X_test.shape"
   ]
  },
  {
   "cell_type": "code",
   "execution_count": 31,
   "id": "ce1b5208",
   "metadata": {},
   "outputs": [
    {
     "data": {
      "text/plain": [
       "(45,)"
      ]
     },
     "execution_count": 31,
     "metadata": {},
     "output_type": "execute_result"
    }
   ],
   "source": [
    "y_test.shape"
   ]
  },
  {
   "cell_type": "code",
   "execution_count": 32,
   "id": "1ad89eff",
   "metadata": {},
   "outputs": [
    {
     "data": {
      "text/html": [
       "<style>#sk-container-id-1 {color: black;background-color: white;}#sk-container-id-1 pre{padding: 0;}#sk-container-id-1 div.sk-toggleable {background-color: white;}#sk-container-id-1 label.sk-toggleable__label {cursor: pointer;display: block;width: 100%;margin-bottom: 0;padding: 0.3em;box-sizing: border-box;text-align: center;}#sk-container-id-1 label.sk-toggleable__label-arrow:before {content: \"▸\";float: left;margin-right: 0.25em;color: #696969;}#sk-container-id-1 label.sk-toggleable__label-arrow:hover:before {color: black;}#sk-container-id-1 div.sk-estimator:hover label.sk-toggleable__label-arrow:before {color: black;}#sk-container-id-1 div.sk-toggleable__content {max-height: 0;max-width: 0;overflow: hidden;text-align: left;background-color: #f0f8ff;}#sk-container-id-1 div.sk-toggleable__content pre {margin: 0.2em;color: black;border-radius: 0.25em;background-color: #f0f8ff;}#sk-container-id-1 input.sk-toggleable__control:checked~div.sk-toggleable__content {max-height: 200px;max-width: 100%;overflow: auto;}#sk-container-id-1 input.sk-toggleable__control:checked~label.sk-toggleable__label-arrow:before {content: \"▾\";}#sk-container-id-1 div.sk-estimator input.sk-toggleable__control:checked~label.sk-toggleable__label {background-color: #d4ebff;}#sk-container-id-1 div.sk-label input.sk-toggleable__control:checked~label.sk-toggleable__label {background-color: #d4ebff;}#sk-container-id-1 input.sk-hidden--visually {border: 0;clip: rect(1px 1px 1px 1px);clip: rect(1px, 1px, 1px, 1px);height: 1px;margin: -1px;overflow: hidden;padding: 0;position: absolute;width: 1px;}#sk-container-id-1 div.sk-estimator {font-family: monospace;background-color: #f0f8ff;border: 1px dotted black;border-radius: 0.25em;box-sizing: border-box;margin-bottom: 0.5em;}#sk-container-id-1 div.sk-estimator:hover {background-color: #d4ebff;}#sk-container-id-1 div.sk-parallel-item::after {content: \"\";width: 100%;border-bottom: 1px solid gray;flex-grow: 1;}#sk-container-id-1 div.sk-label:hover label.sk-toggleable__label {background-color: #d4ebff;}#sk-container-id-1 div.sk-serial::before {content: \"\";position: absolute;border-left: 1px solid gray;box-sizing: border-box;top: 0;bottom: 0;left: 50%;z-index: 0;}#sk-container-id-1 div.sk-serial {display: flex;flex-direction: column;align-items: center;background-color: white;padding-right: 0.2em;padding-left: 0.2em;position: relative;}#sk-container-id-1 div.sk-item {position: relative;z-index: 1;}#sk-container-id-1 div.sk-parallel {display: flex;align-items: stretch;justify-content: center;background-color: white;position: relative;}#sk-container-id-1 div.sk-item::before, #sk-container-id-1 div.sk-parallel-item::before {content: \"\";position: absolute;border-left: 1px solid gray;box-sizing: border-box;top: 0;bottom: 0;left: 50%;z-index: -1;}#sk-container-id-1 div.sk-parallel-item {display: flex;flex-direction: column;z-index: 1;position: relative;background-color: white;}#sk-container-id-1 div.sk-parallel-item:first-child::after {align-self: flex-end;width: 50%;}#sk-container-id-1 div.sk-parallel-item:last-child::after {align-self: flex-start;width: 50%;}#sk-container-id-1 div.sk-parallel-item:only-child::after {width: 0;}#sk-container-id-1 div.sk-dashed-wrapped {border: 1px dashed gray;margin: 0 0.4em 0.5em 0.4em;box-sizing: border-box;padding-bottom: 0.4em;background-color: white;}#sk-container-id-1 div.sk-label label {font-family: monospace;font-weight: bold;display: inline-block;line-height: 1.2em;}#sk-container-id-1 div.sk-label-container {text-align: center;}#sk-container-id-1 div.sk-container {/* jupyter's `normalize.less` sets `[hidden] { display: none; }` but bootstrap.min.css set `[hidden] { display: none !important; }` so we also need the `!important` here to be able to override the default hidden behavior on the sphinx rendered scikit-learn.org. See: https://github.com/scikit-learn/scikit-learn/issues/21755 */display: inline-block !important;position: relative;}#sk-container-id-1 div.sk-text-repr-fallback {display: none;}</style><div id=\"sk-container-id-1\" class=\"sk-top-container\"><div class=\"sk-text-repr-fallback\"><pre>RandomForestRegressor(random_state=0)</pre><b>In a Jupyter environment, please rerun this cell to show the HTML representation or trust the notebook. <br />On GitHub, the HTML representation is unable to render, please try loading this page with nbviewer.org.</b></div><div class=\"sk-container\" hidden><div class=\"sk-item\"><div class=\"sk-estimator sk-toggleable\"><input class=\"sk-toggleable__control sk-hidden--visually\" id=\"sk-estimator-id-1\" type=\"checkbox\" checked><label for=\"sk-estimator-id-1\" class=\"sk-toggleable__label sk-toggleable__label-arrow\">RandomForestRegressor</label><div class=\"sk-toggleable__content\"><pre>RandomForestRegressor(random_state=0)</pre></div></div></div></div></div>"
      ],
      "text/plain": [
       "RandomForestRegressor(random_state=0)"
      ]
     },
     "execution_count": 32,
     "metadata": {},
     "output_type": "execute_result"
    }
   ],
   "source": [
    "rf = RandomForestRegressor(random_state=0)\n",
    "rf.fit(X_train, y_train)"
   ]
  },
  {
   "cell_type": "code",
   "execution_count": 33,
   "id": "a42f2e93",
   "metadata": {},
   "outputs": [
    {
     "data": {
      "text/plain": [
       "array([0.15760415, 0.22996621, 0.32975724, 0.02987766, 0.10974811,\n",
       "       0.        , 0.        , 0.11773199, 0.02531463])"
      ]
     },
     "execution_count": 33,
     "metadata": {},
     "output_type": "execute_result"
    }
   ],
   "source": [
    "rf.feature_importances_"
   ]
  },
  {
   "cell_type": "code",
   "execution_count": 34,
   "id": "37b6833b",
   "metadata": {},
   "outputs": [
    {
     "data": {
      "image/png": "[encoded data removed]",
      "text/plain": [
       "<Figure size 640x480 with 1 Axes>"
      ]
     },
     "metadata": {},
     "output_type": "display_data"
    }
   ],
   "source": [
    "f_i = list(zip(features,rf.feature_importances_))\n",
    "f_i.sort(key = lambda x : x[1])\n",
    "plt.barh([x[0] for x in f_i],[x[1] for x in f_i])\n",
    "\n",
    "plt.show()"
   ]
  },
  {
   "cell_type": "code",
   "execution_count": 35,
   "id": "e1feaa1e",
   "metadata": {},
   "outputs": [],
   "source": [
    "fs_rfr = [f_i[x][0] for x in range(-3, 0)][::-1]"
   ]
  },
  {
   "cell_type": "code",
   "execution_count": 36,
   "id": "ed068020",
   "metadata": {},
   "outputs": [
    {
     "data": {
      "text/plain": [
       "['mensaje_volt', 'voltaje', 'vel_motor']"
      ]
     },
     "execution_count": 36,
     "metadata": {},
     "output_type": "execute_result"
    }
   ],
   "source": [
    "fs_rfr"
   ]
  },
  {
   "cell_type": "code",
   "execution_count": 37,
   "id": "1d8c6612",
   "metadata": {},
   "outputs": [
    {
     "data": {
      "text/plain": [
       "['vel_motor',\n",
       " 'voltaje',\n",
       " 'mensaje_volt',\n",
       " 'horas_comp_trabajadas',\n",
       " 'temp_planta',\n",
       " 'Lamps',\n",
       " 'Lead Curtains',\n",
       " 'Radiation_mrh',\n",
       " 'problemas_rechazo']"
      ]
     },
     "execution_count": 37,
     "metadata": {},
     "output_type": "execute_result"
    }
   ],
   "source": [
    "features"
   ]
  },
  {
   "cell_type": "raw",
   "id": "fb24232b",
   "metadata": {},
   "source": [
    "f_i.sort(key = lambda x : x[1])\n",
    "# f_i\n",
    "\n",
    "nv = [f_i[x][0] for x in range(-3, 0)][::-1]\n",
    "nv"
   ]
  },
  {
   "cell_type": "code",
   "execution_count": 38,
   "id": "12ad890f",
   "metadata": {},
   "outputs": [
    {
     "data": {
      "text/html": [
       "<style>#sk-container-id-2 {color: black;background-color: white;}#sk-container-id-2 pre{padding: 0;}#sk-container-id-2 div.sk-toggleable {background-color: white;}#sk-container-id-2 label.sk-toggleable__label {cursor: pointer;display: block;width: 100%;margin-bottom: 0;padding: 0.3em;box-sizing: border-box;text-align: center;}#sk-container-id-2 label.sk-toggleable__label-arrow:before {content: \"▸\";float: left;margin-right: 0.25em;color: #696969;}#sk-container-id-2 label.sk-toggleable__label-arrow:hover:before {color: black;}#sk-container-id-2 div.sk-estimator:hover label.sk-toggleable__label-arrow:before {color: black;}#sk-container-id-2 div.sk-toggleable__content {max-height: 0;max-width: 0;overflow: hidden;text-align: left;background-color: #f0f8ff;}#sk-container-id-2 div.sk-toggleable__content pre {margin: 0.2em;color: black;border-radius: 0.25em;background-color: #f0f8ff;}#sk-container-id-2 input.sk-toggleable__control:checked~div.sk-toggleable__content {max-height: 200px;max-width: 100%;overflow: auto;}#sk-container-id-2 input.sk-toggleable__control:checked~label.sk-toggleable__label-arrow:before {content: \"▾\";}#sk-container-id-2 div.sk-estimator input.sk-toggleable__control:checked~label.sk-toggleable__label {background-color: #d4ebff;}#sk-container-id-2 div.sk-label input.sk-toggleable__control:checked~label.sk-toggleable__label {background-color: #d4ebff;}#sk-container-id-2 input.sk-hidden--visually {border: 0;clip: rect(1px 1px 1px 1px);clip: rect(1px, 1px, 1px, 1px);height: 1px;margin: -1px;overflow: hidden;padding: 0;position: absolute;width: 1px;}#sk-container-id-2 div.sk-estimator {font-family: monospace;background-color: #f0f8ff;border: 1px dotted black;border-radius: 0.25em;box-sizing: border-box;margin-bottom: 0.5em;}#sk-container-id-2 div.sk-estimator:hover {background-color: #d4ebff;}#sk-container-id-2 div.sk-parallel-item::after {content: \"\";width: 100%;border-bottom: 1px solid gray;flex-grow: 1;}#sk-container-id-2 div.sk-label:hover label.sk-toggleable__label {background-color: #d4ebff;}#sk-container-id-2 div.sk-serial::before {content: \"\";position: absolute;border-left: 1px solid gray;box-sizing: border-box;top: 0;bottom: 0;left: 50%;z-index: 0;}#sk-container-id-2 div.sk-serial {display: flex;flex-direction: column;align-items: center;background-color: white;padding-right: 0.2em;padding-left: 0.2em;position: relative;}#sk-container-id-2 div.sk-item {position: relative;z-index: 1;}#sk-container-id-2 div.sk-parallel {display: flex;align-items: stretch;justify-content: center;background-color: white;position: relative;}#sk-container-id-2 div.sk-item::before, #sk-container-id-2 div.sk-parallel-item::before {content: \"\";position: absolute;border-left: 1px solid gray;box-sizing: border-box;top: 0;bottom: 0;left: 50%;z-index: -1;}#sk-container-id-2 div.sk-parallel-item {display: flex;flex-direction: column;z-index: 1;position: relative;background-color: white;}#sk-container-id-2 div.sk-parallel-item:first-child::after {align-self: flex-end;width: 50%;}#sk-container-id-2 div.sk-parallel-item:last-child::after {align-self: flex-start;width: 50%;}#sk-container-id-2 div.sk-parallel-item:only-child::after {width: 0;}#sk-container-id-2 div.sk-dashed-wrapped {border: 1px dashed gray;margin: 0 0.4em 0.5em 0.4em;box-sizing: border-box;padding-bottom: 0.4em;background-color: white;}#sk-container-id-2 div.sk-label label {font-family: monospace;font-weight: bold;display: inline-block;line-height: 1.2em;}#sk-container-id-2 div.sk-label-container {text-align: center;}#sk-container-id-2 div.sk-container {/* jupyter's `normalize.less` sets `[hidden] { display: none; }` but bootstrap.min.css set `[hidden] { display: none !important; }` so we also need the `!important` here to be able to override the default hidden behavior on the sphinx rendered scikit-learn.org. See: https://github.com/scikit-learn/scikit-learn/issues/21755 */display: inline-block !important;position: relative;}#sk-container-id-2 div.sk-text-repr-fallback {display: none;}</style><div id=\"sk-container-id-2\" class=\"sk-top-container\"><div class=\"sk-text-repr-fallback\"><pre>RFECV(cv=5, estimator=RandomForestRegressor(random_state=0),\n",
       "      scoring=&#x27;neg_mean_squared_error&#x27;)</pre><b>In a Jupyter environment, please rerun this cell to show the HTML representation or trust the notebook. <br />On GitHub, the HTML representation is unable to render, please try loading this page with nbviewer.org.</b></div><div class=\"sk-container\" hidden><div class=\"sk-item sk-dashed-wrapped\"><div class=\"sk-label-container\"><div class=\"sk-label sk-toggleable\"><input class=\"sk-toggleable__control sk-hidden--visually\" id=\"sk-estimator-id-2\" type=\"checkbox\" ><label for=\"sk-estimator-id-2\" class=\"sk-toggleable__label sk-toggleable__label-arrow\">RFECV</label><div class=\"sk-toggleable__content\"><pre>RFECV(cv=5, estimator=RandomForestRegressor(random_state=0),\n",
       "      scoring=&#x27;neg_mean_squared_error&#x27;)</pre></div></div></div><div class=\"sk-parallel\"><div class=\"sk-parallel-item\"><div class=\"sk-item\"><div class=\"sk-label-container\"><div class=\"sk-label sk-toggleable\"><input class=\"sk-toggleable__control sk-hidden--visually\" id=\"sk-estimator-id-3\" type=\"checkbox\" ><label for=\"sk-estimator-id-3\" class=\"sk-toggleable__label sk-toggleable__label-arrow\">estimator: RandomForestRegressor</label><div class=\"sk-toggleable__content\"><pre>RandomForestRegressor(random_state=0)</pre></div></div></div><div class=\"sk-serial\"><div class=\"sk-item\"><div class=\"sk-estimator sk-toggleable\"><input class=\"sk-toggleable__control sk-hidden--visually\" id=\"sk-estimator-id-4\" type=\"checkbox\" ><label for=\"sk-estimator-id-4\" class=\"sk-toggleable__label sk-toggleable__label-arrow\">RandomForestRegressor</label><div class=\"sk-toggleable__content\"><pre>RandomForestRegressor(random_state=0)</pre></div></div></div></div></div></div></div></div></div></div>"
      ],
      "text/plain": [
       "RFECV(cv=5, estimator=RandomForestRegressor(random_state=0),\n",
       "      scoring='neg_mean_squared_error')"
      ]
     },
     "execution_count": 38,
     "metadata": {},
     "output_type": "execute_result"
    }
   ],
   "source": [
    "rfe = RFECV(rf, cv=5, scoring=\"neg_mean_squared_error\")\n",
    "rfe.fit(X_train, y_train)"
   ]
  },
  {
   "cell_type": "code",
   "execution_count": 39,
   "id": "082c5f13",
   "metadata": {},
   "outputs": [
    {
     "data": {
      "text/plain": [
       "array([ True,  True,  True, False,  True, False, False,  True, False])"
      ]
     },
     "execution_count": 39,
     "metadata": {},
     "output_type": "execute_result"
    }
   ],
   "source": [
    "rfe.get_support()"
   ]
  },
  {
   "cell_type": "code",
   "execution_count": 40,
   "id": "b2bf895b",
   "metadata": {},
   "outputs": [],
   "source": [
    "selected_features = np.array(features)[rfe.get_support()]"
   ]
  },
  {
   "cell_type": "code",
   "execution_count": 41,
   "id": "8dae43ed",
   "metadata": {},
   "outputs": [
    {
     "data": {
      "text/plain": [
       "array(['vel_motor', 'voltaje', 'mensaje_volt', 'temp_planta',\n",
       "       'Radiation_mrh'], dtype='<U21')"
      ]
     },
     "execution_count": 41,
     "metadata": {},
     "output_type": "execute_result"
    }
   ],
   "source": [
    "selected_features"
   ]
  },
  {
   "cell_type": "code",
   "execution_count": 42,
   "id": "8a1b2cd6",
   "metadata": {},
   "outputs": [
    {
     "data": {
      "text/html": [
       "<div>\n",
       "<style scoped>\n",
       "    .dataframe tbody tr th:only-of-type {\n",
       "        vertical-align: middle;\n",
       "    }\n",
       "\n",
       "    .dataframe tbody tr th {\n",
       "        vertical-align: top;\n",
       "    }\n",
       "\n",
       "    .dataframe thead th {\n",
       "        text-align: right;\n",
       "    }\n",
       "</style>\n",
       "<table border=\"1\" class=\"dataframe\">\n",
       "  <thead>\n",
       "    <tr style=\"text-align: right;\">\n",
       "      <th></th>\n",
       "      <th>vel_motor</th>\n",
       "      <th>mensaje_volt</th>\n",
       "      <th>mantenimiento</th>\n",
       "    </tr>\n",
       "  </thead>\n",
       "  <tbody>\n",
       "    <tr>\n",
       "      <th>1</th>\n",
       "      <td>24</td>\n",
       "      <td>0</td>\n",
       "      <td>1</td>\n",
       "    </tr>\n",
       "    <tr>\n",
       "      <th>2</th>\n",
       "      <td>24</td>\n",
       "      <td>0</td>\n",
       "      <td>1</td>\n",
       "    </tr>\n",
       "    <tr>\n",
       "      <th>28</th>\n",
       "      <td>18</td>\n",
       "      <td>1</td>\n",
       "      <td>1</td>\n",
       "    </tr>\n",
       "    <tr>\n",
       "      <th>45</th>\n",
       "      <td>20</td>\n",
       "      <td>0</td>\n",
       "      <td>1</td>\n",
       "    </tr>\n",
       "    <tr>\n",
       "      <th>74</th>\n",
       "      <td>24</td>\n",
       "      <td>0</td>\n",
       "      <td>1</td>\n",
       "    </tr>\n",
       "    <tr>\n",
       "      <th>...</th>\n",
       "      <td>...</td>\n",
       "      <td>...</td>\n",
       "      <td>...</td>\n",
       "    </tr>\n",
       "    <tr>\n",
       "      <th>1776</th>\n",
       "      <td>27</td>\n",
       "      <td>1</td>\n",
       "      <td>1</td>\n",
       "    </tr>\n",
       "    <tr>\n",
       "      <th>1795</th>\n",
       "      <td>28</td>\n",
       "      <td>0</td>\n",
       "      <td>1</td>\n",
       "    </tr>\n",
       "    <tr>\n",
       "      <th>1812</th>\n",
       "      <td>26</td>\n",
       "      <td>0</td>\n",
       "      <td>2</td>\n",
       "    </tr>\n",
       "    <tr>\n",
       "      <th>1847</th>\n",
       "      <td>19</td>\n",
       "      <td>0</td>\n",
       "      <td>1</td>\n",
       "    </tr>\n",
       "    <tr>\n",
       "      <th>1873</th>\n",
       "      <td>28</td>\n",
       "      <td>1</td>\n",
       "      <td>2</td>\n",
       "    </tr>\n",
       "  </tbody>\n",
       "</table>\n",
       "<p>111 rows × 3 columns</p>\n",
       "</div>"
      ],
      "text/plain": [
       "      vel_motor  mensaje_volt  mantenimiento\n",
       "1            24             0              1\n",
       "2            24             0              1\n",
       "28           18             1              1\n",
       "45           20             0              1\n",
       "74           24             0              1\n",
       "...         ...           ...            ...\n",
       "1776         27             1              1\n",
       "1795         28             0              1\n",
       "1812         26             0              2\n",
       "1847         19             0              1\n",
       "1873         28             1              2\n",
       "\n",
       "[111 rows x 3 columns]"
      ]
     },
     "execution_count": 42,
     "metadata": {},
     "output_type": "execute_result"
    }
   ],
   "source": [
    "df_mantto_dtc = df_E162533_original[fs_dtc+[\"mantenimiento\"]]\n",
    "df_mantto_dtc"
   ]
  },
  {
   "cell_type": "code",
   "execution_count": 43,
   "id": "24b5d23f",
   "metadata": {},
   "outputs": [
    {
     "data": {
      "text/html": [
       "<div>\n",
       "<style scoped>\n",
       "    .dataframe tbody tr th:only-of-type {\n",
       "        vertical-align: middle;\n",
       "    }\n",
       "\n",
       "    .dataframe tbody tr th {\n",
       "        vertical-align: top;\n",
       "    }\n",
       "\n",
       "    .dataframe thead th {\n",
       "        text-align: right;\n",
       "    }\n",
       "</style>\n",
       "<table border=\"1\" class=\"dataframe\">\n",
       "  <thead>\n",
       "    <tr style=\"text-align: right;\">\n",
       "      <th></th>\n",
       "      <th>mensaje_volt</th>\n",
       "      <th>voltaje</th>\n",
       "      <th>vel_motor</th>\n",
       "      <th>mantenimiento</th>\n",
       "    </tr>\n",
       "  </thead>\n",
       "  <tbody>\n",
       "    <tr>\n",
       "      <th>1</th>\n",
       "      <td>0</td>\n",
       "      <td>222</td>\n",
       "      <td>24</td>\n",
       "      <td>1</td>\n",
       "    </tr>\n",
       "    <tr>\n",
       "      <th>2</th>\n",
       "      <td>0</td>\n",
       "      <td>222</td>\n",
       "      <td>24</td>\n",
       "      <td>1</td>\n",
       "    </tr>\n",
       "    <tr>\n",
       "      <th>28</th>\n",
       "      <td>1</td>\n",
       "      <td>223</td>\n",
       "      <td>18</td>\n",
       "      <td>1</td>\n",
       "    </tr>\n",
       "    <tr>\n",
       "      <th>45</th>\n",
       "      <td>0</td>\n",
       "      <td>223</td>\n",
       "      <td>20</td>\n",
       "      <td>1</td>\n",
       "    </tr>\n",
       "    <tr>\n",
       "      <th>74</th>\n",
       "      <td>0</td>\n",
       "      <td>220</td>\n",
       "      <td>24</td>\n",
       "      <td>1</td>\n",
       "    </tr>\n",
       "    <tr>\n",
       "      <th>...</th>\n",
       "      <td>...</td>\n",
       "      <td>...</td>\n",
       "      <td>...</td>\n",
       "      <td>...</td>\n",
       "    </tr>\n",
       "    <tr>\n",
       "      <th>1776</th>\n",
       "      <td>1</td>\n",
       "      <td>227</td>\n",
       "      <td>27</td>\n",
       "      <td>1</td>\n",
       "    </tr>\n",
       "    <tr>\n",
       "      <th>1795</th>\n",
       "      <td>0</td>\n",
       "      <td>215</td>\n",
       "      <td>28</td>\n",
       "      <td>1</td>\n",
       "    </tr>\n",
       "    <tr>\n",
       "      <th>1812</th>\n",
       "      <td>0</td>\n",
       "      <td>221</td>\n",
       "      <td>26</td>\n",
       "      <td>2</td>\n",
       "    </tr>\n",
       "    <tr>\n",
       "      <th>1847</th>\n",
       "      <td>0</td>\n",
       "      <td>221</td>\n",
       "      <td>19</td>\n",
       "      <td>1</td>\n",
       "    </tr>\n",
       "    <tr>\n",
       "      <th>1873</th>\n",
       "      <td>1</td>\n",
       "      <td>233</td>\n",
       "      <td>28</td>\n",
       "      <td>2</td>\n",
       "    </tr>\n",
       "  </tbody>\n",
       "</table>\n",
       "<p>111 rows × 4 columns</p>\n",
       "</div>"
      ],
      "text/plain": [
       "      mensaje_volt  voltaje  vel_motor  mantenimiento\n",
       "1                0      222         24              1\n",
       "2                0      222         24              1\n",
       "28               1      223         18              1\n",
       "45               0      223         20              1\n",
       "74               0      220         24              1\n",
       "...            ...      ...        ...            ...\n",
       "1776             1      227         27              1\n",
       "1795             0      215         28              1\n",
       "1812             0      221         26              2\n",
       "1847             0      221         19              1\n",
       "1873             1      233         28              2\n",
       "\n",
       "[111 rows x 4 columns]"
      ]
     },
     "execution_count": 43,
     "metadata": {},
     "output_type": "execute_result"
    }
   ],
   "source": [
    "df_mantto_rfr = df_E162533_original[fs_rfr+[\"mantenimiento\"]]\n",
    "df_mantto_rfr"
   ]
  },
  {
   "cell_type": "code",
   "execution_count": 44,
   "id": "1f1ac905",
   "metadata": {},
   "outputs": [
    {
     "data": {
      "text/plain": [
       "<seaborn.axisgrid.FacetGrid at 0x195e1c60400>"
      ]
     },
     "execution_count": 44,
     "metadata": {},
     "output_type": "execute_result"
    },
    {
     "data": {
      "text/plain": [
       "<Figure size 1500x800 with 0 Axes>"
      ]
     },
     "metadata": {},
     "output_type": "display_data"
    },
    {
     "data": {
      "image/png": "[encoded data removed]",
      "text/plain": [
       "<Figure size 500x500 with 1 Axes>"
      ]
     },
     "metadata": {},
     "output_type": "display_data"
    }
   ],
   "source": [
    "plt.figure(figsize=(15,8))\n",
    "sns.displot(df_E162533_original[\"mantenimiento\"])"
   ]
  },
  {
   "cell_type": "markdown",
   "id": "0ba1eb0a",
   "metadata": {},
   "source": [
    "# RFR"
   ]
  },
  {
   "cell_type": "code",
   "execution_count": 185,
   "id": "169418cd",
   "metadata": {},
   "outputs": [],
   "source": [
    "values_mantto_rfr = df_mantto_rfr.values\n",
    "# values_mantto_rfr"
   ]
  },
  {
   "cell_type": "code",
   "execution_count": 186,
   "id": "6ec50f09",
   "metadata": {},
   "outputs": [],
   "source": [
    "X, y = values_mantto_rfr[:,:-1].astype(\"float32\"), values_mantto_rfr[:,-1]"
   ]
  },
  {
   "cell_type": "code",
   "execution_count": 187,
   "id": "bb0b34fa",
   "metadata": {},
   "outputs": [],
   "source": [
    "y = to_categorical(y)"
   ]
  },
  {
   "cell_type": "code",
   "execution_count": 188,
   "id": "af6db0dd",
   "metadata": {},
   "outputs": [],
   "source": [
    "n_dias_entrenamiento = 90\n",
    "\n",
    "trainX, testX = X[:n_dias_entrenamiento,:], X[n_dias_entrenamiento:,:]\n",
    "trainy, testy = y[:n_dias_entrenamiento], y[n_dias_entrenamiento:]"
   ]
  },
  {
   "cell_type": "code",
   "execution_count": 189,
   "id": "764cd451",
   "metadata": {},
   "outputs": [],
   "source": [
    "scalar_rfr = MinMaxScaler()\n",
    "scalar_rfr.fit(trainX)\n",
    "trainX_scaled = scalar_rfr.transform(trainX)"
   ]
  },
  {
   "cell_type": "code",
   "execution_count": 190,
   "id": "fc0f56b1",
   "metadata": {},
   "outputs": [],
   "source": [
    "model_rfr = Sequential()\n",
    "model_rfr.add(Dense(15, input_dim=3, activation='relu'))\n",
    "model_rfr.add(Dense(6, activation=\"tanh\"))\n",
    "model_rfr.add(Dense(3, activation='softmax'))\n",
    "model_rfr.compile(loss='categorical_crossentropy', optimizer='adam', metrics=[\"accuracy\"])"
   ]
  },
  {
   "cell_type": "code",
   "execution_count": 191,
   "id": "bbf712ee",
   "metadata": {},
   "outputs": [],
   "source": [
    "testX_scaled = scalar_rfr.transform(testX)"
   ]
  },
  {
   "cell_type": "code",
   "execution_count": null,
   "id": "75eef4e4",
   "metadata": {},
   "outputs": [],
   "source": []
  },
  {
   "cell_type": "code",
   "execution_count": 192,
   "id": "ea6cece2",
   "metadata": {},
   "outputs": [
    {
     "name": "stdout",
     "output_type": "stream",
     "text": [
      "Epoch 1/15\n",
      "3/3 - 1s - loss: 1.1850 - accuracy: 0.1222 - val_loss: 271.1582 - val_accuracy: 0.1905 - 606ms/epoch - 202ms/step\n",
      "Epoch 2/15\n",
      "3/3 - 0s - loss: 1.1576 - accuracy: 0.1222 - val_loss: 265.2566 - val_accuracy: 0.1905 - 34ms/epoch - 11ms/step\n",
      "Epoch 3/15\n",
      "3/3 - 0s - loss: 1.1312 - accuracy: 0.1111 - val_loss: 259.4543 - val_accuracy: 0.1905 - 35ms/epoch - 12ms/step\n",
      "Epoch 4/15\n",
      "3/3 - 0s - loss: 1.1049 - accuracy: 0.1556 - val_loss: 253.8725 - val_accuracy: 0.2857 - 34ms/epoch - 11ms/step\n",
      "Epoch 5/15\n",
      "3/3 - 0s - loss: 1.0795 - accuracy: 0.2111 - val_loss: 248.4675 - val_accuracy: 0.3810 - 34ms/epoch - 11ms/step\n",
      "Epoch 6/15\n",
      "3/3 - 0s - loss: 1.0557 - accuracy: 0.2889 - val_loss: 243.1171 - val_accuracy: 0.4286 - 34ms/epoch - 11ms/step\n",
      "Epoch 7/15\n",
      "3/3 - 0s - loss: 1.0302 - accuracy: 0.3889 - val_loss: 238.0177 - val_accuracy: 0.5238 - 33ms/epoch - 11ms/step\n",
      "Epoch 8/15\n",
      "3/3 - 0s - loss: 1.0066 - accuracy: 0.4444 - val_loss: 233.0565 - val_accuracy: 0.5714 - 32ms/epoch - 11ms/step\n",
      "Epoch 9/15\n",
      "3/3 - 0s - loss: 0.9836 - accuracy: 0.5000 - val_loss: 228.2616 - val_accuracy: 0.5714 - 31ms/epoch - 10ms/step\n",
      "Epoch 10/15\n",
      "3/3 - 0s - loss: 0.9613 - accuracy: 0.6667 - val_loss: 223.5918 - val_accuracy: 0.6190 - 30ms/epoch - 10ms/step\n",
      "Epoch 11/15\n",
      "3/3 - 0s - loss: 0.9393 - accuracy: 0.8000 - val_loss: 219.0659 - val_accuracy: 0.7143 - 29ms/epoch - 10ms/step\n",
      "Epoch 12/15\n",
      "3/3 - 0s - loss: 0.9188 - accuracy: 0.8556 - val_loss: 214.6270 - val_accuracy: 0.8571 - 47ms/epoch - 16ms/step\n",
      "Epoch 13/15\n",
      "3/3 - 0s - loss: 0.8978 - accuracy: 0.8667 - val_loss: 210.4024 - val_accuracy: 1.0000 - 31ms/epoch - 10ms/step\n",
      "Epoch 14/15\n",
      "3/3 - 0s - loss: 0.8787 - accuracy: 0.8667 - val_loss: 206.2547 - val_accuracy: 1.0000 - 30ms/epoch - 10ms/step\n",
      "Epoch 15/15\n",
      "3/3 - 0s - loss: 0.8590 - accuracy: 0.8667 - val_loss: 202.2540 - val_accuracy: 1.0000 - 29ms/epoch - 10ms/step\n"
     ]
    }
   ],
   "source": [
    "history = model_rfr.fit(trainX_scaled, trainy, \n",
    "                        validation_data=(testX_scaled, testX),\n",
    "                        epochs=15,verbose=2)"
   ]
  },
  {
   "cell_type": "code",
   "execution_count": 193,
   "id": "82880dd8",
   "metadata": {},
   "outputs": [
    {
     "data": {
      "image/png": "[encoded data removed]",
      "text/plain": [
       "<Figure size 640x480 with 1 Axes>"
      ]
     },
     "metadata": {},
     "output_type": "display_data"
    }
   ],
   "source": [
    "# graficamos la perdida\n",
    "plt.plot(history.history[\"loss\"], label=\"train\")\n",
    "plt.plot(history.history[\"val_loss\"], label=\"test\")\n",
    "plt.legend()\n",
    "plt.show()"
   ]
  },
  {
   "cell_type": "code",
   "execution_count": 194,
   "id": "5202491d",
   "metadata": {},
   "outputs": [
    {
     "data": {
      "image/png": "[encoded data removed]",
      "text/plain": [
       "<Figure size 640x480 with 1 Axes>"
      ]
     },
     "metadata": {},
     "output_type": "display_data"
    }
   ],
   "source": [
    "# graficamos la perdida\n",
    "plt.plot(history.history[\"accuracy\"], label=\"train\")\n",
    "plt.plot(history.history[\"val_accuracy\"], label=\"test\")\n",
    "plt.legend()\n",
    "plt.show()"
   ]
  },
  {
   "cell_type": "code",
   "execution_count": 195,
   "id": "f9566cf2",
   "metadata": {
    "scrolled": true
   },
   "outputs": [
    {
     "name": "stdout",
     "output_type": "stream",
     "text": [
      "Train: 0.867, Test: 1.000\n"
     ]
    }
   ],
   "source": [
    "# evaluate the model\n",
    "_, train_acc = model_rfr.evaluate(trainX_scaled, trainy, verbose=0)\n",
    "_, test_acc = model_rfr.evaluate(testX_scaled, testX, verbose=0)\n",
    "print('Train: %.3f, Test: %.3f' % (train_acc, test_acc))"
   ]
  },
  {
   "cell_type": "code",
   "execution_count": null,
   "id": "3df9d840",
   "metadata": {},
   "outputs": [],
   "source": []
  },
  {
   "cell_type": "code",
   "execution_count": 56,
   "id": "0e51fd83",
   "metadata": {},
   "outputs": [
    {
     "ename": "NameError",
     "evalue": "name 'X_rfr_test_scaled' is not defined",
     "output_type": "error",
     "traceback": [
      "\u001b[1;31m---------------------------------------------------------------------------\u001b[0m",
      "\u001b[1;31mNameError\u001b[0m                                 Traceback (most recent call last)",
      "Cell \u001b[1;32mIn [56], line 2\u001b[0m\n\u001b[0;32m      1\u001b[0m \u001b[38;5;66;03m# show the inputs and predicted outputs\u001b[39;00m\n\u001b[1;32m----> 2\u001b[0m \u001b[38;5;28;01mfor\u001b[39;00m i \u001b[38;5;129;01min\u001b[39;00m \u001b[38;5;28mrange\u001b[39m(\u001b[38;5;28mlen\u001b[39m(X_rfr_test_scaled)):\n\u001b[0;32m      3\u001b[0m     \u001b[38;5;28mprint\u001b[39m(\u001b[38;5;124m\"\u001b[39m\u001b[38;5;124mX=\u001b[39m\u001b[38;5;132;01m%s\u001b[39;00m\u001b[38;5;124m, y=\u001b[39m\u001b[38;5;132;01m%s\u001b[39;00m\u001b[38;5;124m, Predicted=\u001b[39m\u001b[38;5;132;01m%s\u001b[39;00m\u001b[38;5;124m\"\u001b[39m \u001b[38;5;241m%\u001b[39m (X_rfr_test_scaled[i], y_test_rfr[i], classes_y_rfr[i]))\n",
      "\u001b[1;31mNameError\u001b[0m: name 'X_rfr_test_scaled' is not defined"
     ]
    }
   ],
   "source": [
    "# show the inputs and predicted outputs\n",
    "for i in range(len(X_rfr_test_scaled)):\n",
    "    print(\"X=%s, y=%s, Predicted=%s\" % (X_rfr_test_scaled[i], y_test_rfr[i], classes_y_rfr[i]))"
   ]
  },
  {
   "cell_type": "code",
   "execution_count": null,
   "id": "33914f55",
   "metadata": {},
   "outputs": [],
   "source": [
    "\n",
    "np.argmax(model_rfr.predict([[0.5, 0.5, 1]]),axis=1)"
   ]
  },
  {
   "cell_type": "markdown",
   "id": "e4842b49",
   "metadata": {},
   "source": [
    "# TESTS"
   ]
  },
  {
   "cell_type": "raw",
   "id": "2a652f90",
   "metadata": {},
   "source": [
    "from keras.models import Sequential\n",
    "from keras.layers import Dense\n",
    "from sklearn.datasets import make_blobs\n",
    "from sklearn.preprocessing import MinMaxScaler\n",
    "\n",
    "# generate 2d classification dataset\n",
    "X, y = make_blobs(n_samples=100, centers=2, n_features=2, random_state=1)\n",
    "print(\"X shape\", X.shape)\n",
    "scalar = MinMaxScaler()\n",
    "scalar.fit(X)\n",
    "X = scalar.transform(X)\n",
    "\n",
    "# define and fit the final model\n",
    "model = Sequential()\n",
    "model.add(Dense(4, input_shape=(2,), activation='relu'))\n",
    "model.add(Dense(4, activation='relu'))\n",
    "model.add(Dense(1, activation='sigmoid'))\n",
    "model.compile(loss='binary_crossentropy', optimizer='adam')\n",
    "model.fit(X, y, epochs=500, verbose=0)\n",
    "\n",
    "# new instances where we do not know the answer\n",
    "Xnew, _ = make_blobs(n_samples=3, centers=2, n_features=2, random_state=1)\n",
    "Xnew = scalar.transform(Xnew)\n",
    "\n",
    "# make a prediction\n",
    "ynew = model.predict(Xnew)\n",
    "classes_x=np.argmax(ynew,axis=1)\n",
    "\n",
    "# show the inputs and predicted outputs\n",
    "for i in range(len(Xnew)):\n",
    "    print(\"X=%s, y=%s, Predicted=%s\" % (Xnew[i], ynew[i]))"
   ]
  },
  {
   "cell_type": "raw",
   "id": "f5ac3d49",
   "metadata": {},
   "source": []
  },
  {
   "cell_type": "raw",
   "id": "965c8e37",
   "metadata": {},
   "source": []
  },
  {
   "cell_type": "raw",
   "id": "7315b333",
   "metadata": {},
   "source": []
  },
  {
   "cell_type": "code",
   "execution_count": null,
   "id": "d6af196c",
   "metadata": {},
   "outputs": [],
   "source": [
    "# fit high variance mlp on blobs classification problem\n",
    "from sklearn.datasets import make_blobs\n",
    "from keras.utils import to_categorical\n",
    "from keras.models import Sequential\n",
    "from keras.layers import Dense\n",
    "from matplotlib import pyplot"
   ]
  },
  {
   "cell_type": "code",
   "execution_count": null,
   "id": "0e89d750",
   "metadata": {},
   "outputs": [],
   "source": [
    "# generate 2d classification dataset\n",
    "X, y = make_blobs(n_samples=500, centers=3, n_features=2, cluster_std=2, random_state=2)\n",
    "y = to_categorical(y)\n"
   ]
  },
  {
   "cell_type": "code",
   "execution_count": null,
   "id": "685a2a65",
   "metadata": {},
   "outputs": [],
   "source": [
    "X"
   ]
  },
  {
   "cell_type": "code",
   "execution_count": null,
   "id": "c0e0d5e8",
   "metadata": {},
   "outputs": [],
   "source": [
    "y"
   ]
  },
  {
   "cell_type": "code",
   "execution_count": null,
   "id": "fd46eeef",
   "metadata": {},
   "outputs": [],
   "source": [
    "# split into train and test\n",
    "n_train = int(0.3 * X.shape[0])\n",
    "trainX, testX = X[:n_train, :], X[n_train:, :]\n",
    "trainy, testy = y[:n_train], y[n_train:]\n"
   ]
  },
  {
   "cell_type": "code",
   "execution_count": null,
   "id": "4e2677d1",
   "metadata": {},
   "outputs": [],
   "source": [
    "trainX"
   ]
  },
  {
   "cell_type": "code",
   "execution_count": null,
   "id": "cdea5030",
   "metadata": {},
   "outputs": [],
   "source": [
    "testX"
   ]
  },
  {
   "cell_type": "code",
   "execution_count": null,
   "id": "47e1096b",
   "metadata": {},
   "outputs": [],
   "source": [
    "# define model\n",
    "model = Sequential()\n",
    "model.add(Dense(15, input_dim=2, activation='relu'))\n",
    "model.add(Dense(3, activation='softmax'))\n",
    "model.compile(loss='categorical_crossentropy', optimizer='adam', metrics=['accuracy'])\n"
   ]
  },
  {
   "cell_type": "code",
   "execution_count": null,
   "id": "21581d87",
   "metadata": {},
   "outputs": [],
   "source": [
    "# fit model\n",
    "history = model.fit(trainX, trainy, validation_data=(testX, testy), epochs=200, verbose=0)\n"
   ]
  },
  {
   "cell_type": "code",
   "execution_count": null,
   "id": "67abac90",
   "metadata": {},
   "outputs": [],
   "source": [
    "# evaluate the model\n",
    "_, train_acc = model.evaluate(trainX, trainy, verbose=0)\n",
    "_, test_acc = model.evaluate(testX, testy, verbose=0)\n",
    "print('Train: %.3f, Test: %.3f' % (train_acc, test_acc))\n"
   ]
  },
  {
   "cell_type": "code",
   "execution_count": null,
   "id": "53677dc2",
   "metadata": {},
   "outputs": [],
   "source": [
    "# learning curves of model accuracy\n",
    "pyplot.plot(history.history['accuracy'], label='train')\n",
    "pyplot.plot(history.history['val_accuracy'], label='test')\n",
    "pyplot.legend()\n",
    "pyplot.show()"
   ]
  },
  {
   "cell_type": "code",
   "execution_count": null,
   "id": "c9d2d50f",
   "metadata": {},
   "outputs": [],
   "source": []
  }
 ],
 "metadata": {
  "kernelspec": {
   "display_name": "Python 3 (ipykernel)",
   "language": "python",
   "name": "python3"
  },
  "language_info": {
   "codemirror_mode": {
    "name": "ipython",
    "version": 3
   },
   "file_extension": ".py",
   "mimetype": "text/x-python",
   "name": "python",
   "nbconvert_exporter": "python",
   "pygments_lexer": "ipython3",
   "version": "3.9.6"
  }
 },
 "nbformat": 4,
 "nbformat_minor": 5
}
